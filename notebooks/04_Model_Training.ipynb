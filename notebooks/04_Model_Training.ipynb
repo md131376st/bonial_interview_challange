{
 "cells": [
  {
   "cell_type": "code",
   "id": "initial_id",
   "metadata": {
    "collapsed": true
   },
   "source": [
    "import pandas as pd\n",
    "from sklearn.ensemble import RandomForestClassifier\n",
    "from sklearn.metrics import classification_report, roc_auc_score, accuracy_score\n",
    "import os"
   ],
   "outputs": [],
   "execution_count": null
  },
  {
   "metadata": {},
   "cell_type": "code",
   "source": [
    "BASE_DIR = os.path.abspath(\"..\")\n",
    "TRAIN_SET = os.path.join(BASE_DIR,\"data\", \"train_set\")\n"
   ],
   "id": "a6a10111316a2e62",
   "outputs": [],
   "execution_count": null
  },
  {
   "metadata": {},
   "cell_type": "code",
   "source": [
    "from src.genral import restore_dataframes_from_pickle\n",
    "\n",
    "[train_set1, validation_set1, train_set2, validation_set2] = restore_dataframes_from_pickle(\n",
    "    file_names=[\"fold_1_train.pkl\", \"fold_1_validation_or_test.pkl\", \"fold_2_train.pkl\", \"fold_2_validation_or_test.pkl\"],\n",
    "    folder_path=TRAIN_SET\n",
    ")\n",
    "\n",
    "display(train_set1.head())\n",
    "display(validation_set1.head())\n",
    "display(train_set2.head())\n",
    "display(validation_set2.head())"
   ],
   "id": "8e704c87d7b5e5e4",
   "outputs": [],
   "execution_count": null
  },
  {
   "metadata": {},
   "cell_type": "code",
   "source": [
    "# Train and Validation sets for Fold 1\n",
    "X_train_fold1 = train_set1.drop(columns=[\"userId\", \"is_active\"])\n",
    "y_train_fold1 = train_set1[\"is_active\"]\n",
    "X_val_fold1 = validation_set1.drop(columns=[\"userId\", \"is_active\"])\n",
    "y_val_fold1 = validation_set1[\"is_active\"]\n",
    "\n",
    "# Train and Validation sets for Fold 2\n",
    "X_train_fold2 = train_set2.drop(columns=[\"userId\", \"is_active\"])\n",
    "y_train_fold2 = train_set2[\"is_active\"]\n",
    "X_val_fold2 = validation_set2.drop(columns=[\"userId\", \"is_active\"])\n",
    "y_val_fold2 = validation_set2[\"is_active\"]"
   ],
   "id": "f26ef4ef18c33f70",
   "outputs": [],
   "execution_count": null
  },
  {
   "metadata": {},
   "cell_type": "code",
   "source": [
    "display(train_set1.head())\n",
    "display(validation_set1.head())\n",
    "display(train_set2.head())\n",
    "display(validation_set2.head())"
   ],
   "id": "821e4c8238eca2eb",
   "outputs": [],
   "execution_count": null
  },
  {
   "metadata": {},
   "cell_type": "code",
   "source": [
    "print(X_train_fold1.shape)\n",
    "print(X_val_fold1.shape)\n",
    "print(X_train_fold2.shape)\n",
    "print(X_val_fold2.shape)\n",
    "X_train_fold1.columns=range(X_train_fold1.shape[1])\n",
    "X_val_fold1.columns=range(X_train_fold1.shape[1])\n",
    "X_train_fold2.columns=range(X_train_fold1.shape[1])\n",
    "X_val_fold2.columns=range(X_train_fold1.shape[1])"
   ],
   "id": "c106a56bcac14730",
   "outputs": [],
   "execution_count": null
  },
  {
   "metadata": {},
   "cell_type": "code",
   "source": "X_train_fold1.head()",
   "id": "20c30eecc1d8805a",
   "outputs": [],
   "execution_count": null
  },
  {
   "metadata": {},
   "cell_type": "markdown",
   "source": "# list of models to train",
   "id": "6fc8fbae8881904f"
  },
  {
   "metadata": {},
   "cell_type": "code",
   "source": [
    "from lightgbm import LGBMClassifier\n",
    "from xgboost import XGBClassifier\n",
    "from sklearn.metrics import roc_auc_score, classification_report\n",
    "from sklearn.model_selection import GridSearchCV\n",
    "from sklearn.ensemble import RandomForestClassifier\n",
    "from sklearn.linear_model import LogisticRegression\n",
    "# from xgboost import XGBClassifier\n",
    "# from lightgbm import LGBMClassifier\n",
    "models = {\n",
    "    \"Logistic Regression\": {\n",
    "        \"model\": LogisticRegression(class_weight=\"balanced\", random_state=42),\n",
    "        \"params\": {\n",
    "            \"penalty\": [\"l2\"],\n",
    "            \"C\": [0.01, 0.1, 1, 10],\n",
    "            \"solver\": [\"liblinear\", \"lbfgs\"]\n",
    "        }\n",
    "    },\n",
    "    \"Random Forest\": {\n",
    "        \"model\": RandomForestClassifier(class_weight=\"balanced\", random_state=42),\n",
    "        \"params\": {\n",
    "            \"n_estimators\": [50, 100, 200],\n",
    "            \"max_depth\": [5, 10, None],\n",
    "            \"min_samples_split\": [2, 5, 10]\n",
    "        }\n",
    "    },\n",
    "    \"XGBoost\": {\n",
    "        \"model\": XGBClassifier(random_state=42, use_label_encoder=False, eval_metric=\"logloss\"),\n",
    "        \"params\": {\n",
    "            \"n_estimators\": [50, 100],\n",
    "            \"max_depth\": [3, 5, 10],\n",
    "            \"learning_rate\": [0.01, 0.1, 0.2],\n",
    "            \"scale_pos_weight\": [1, 2, 5]\n",
    "        }\n",
    "    },\n",
    "    \"LightGBM\": {\n",
    "        \"model\": LGBMClassifier(class_weight=\"balanced\", random_state=42),\n",
    "        \"params\": {\n",
    "            \"n_estimators\": [50, 100],\n",
    "            \"max_depth\": [5, 10, -1],\n",
    "            \"learning_rate\": [0.01, 0.1, 0.2]\n",
    "        }\n",
    "    }\n",
    "}\n",
    "\n",
    "\n"
   ],
   "id": "d82246c376796109",
   "outputs": [],
   "execution_count": null
  },
  {
   "metadata": {},
   "cell_type": "code",
   "source": [
    "X_train_fold1.head()\n",
    "y_train_fold1.head()\n",
    "X_val_fold1.head()"
   ],
   "id": "1a6ec89d1b7714a6",
   "outputs": [],
   "execution_count": null
  },
  {
   "metadata": {},
   "cell_type": "code",
   "source": [
    "from src.Models import train_and_evaluate\n",
    "\n",
    "best_model_fold1, best_model_name_fold1, best_params_fold1, best_score_fold1 = train_and_evaluate(\n",
    "    X_train_fold1, y_train_fold1, X_val_fold1, y_val_fold1, models\n",
    ")"
   ],
   "id": "97b67128a1b27bff",
   "outputs": [],
   "execution_count": null
  },
  {
   "metadata": {},
   "cell_type": "code",
   "source": [
    "best_model_fold2, best_model_name_fold2, best_params_fold2, best_score_fold2 = train_and_evaluate(\n",
    "    X_train_fold2, y_train_fold2, X_val_fold2, y_val_fold2, models\n",
    ")"
   ],
   "id": "e1ddb64dea9b0785",
   "outputs": [],
   "execution_count": null
  },
  {
   "metadata": {},
   "cell_type": "code",
   "source": [
    "Final_DATA = os.path.join(BASE_DIR, \"data\", \"final_data\")\n",
    "[train_set1, validation_set1] = restore_dataframes_from_pickle(\n",
    "    file_names=[\"fold_3_train.pkl\", \"fold_3_validation.pkl\"],\n",
    "    folder_path=Final_DATA\n",
    ")\n",
    "X_train_fold1 = train_set1.drop(columns=[\"userId\", \"is_active\"])\n",
    "y_train_fold1 = train_set1[\"is_active\"]\n",
    "X_val_fold1 = validation_set1.drop(columns=[\"userId\", \"is_active\"])\n",
    "y_val_fold1 = validation_set1[\"is_active\"]\n",
    "X_train_fold1.columns=range(X_train_fold1.shape[1])\n",
    "X_val_fold1.columns=range(X_train_fold1.shape[1])\n",
    "models = {\n",
    "    \"LightGBM\": {\n",
    "        \"model\": LGBMClassifier(class_weight=\"balanced\", random_state=42),\n",
    "        \"params\": {\n",
    "            \"n_estimators\": [100],\n",
    "            \"max_depth\": [-1],\n",
    "            \"learning_rate\": [0.01]\n",
    "        }\n",
    "    }\n",
    "}\n",
    "train_and_evaluate(\n",
    "    X_train_fold2, y_train_fold2, X_val_fold2, y_val_fold2, models\n",
    ")\n"
   ],
   "id": "ad2cf96e466a69df",
   "outputs": [],
   "execution_count": null
  }
 ],
 "metadata": {
  "kernelspec": {
   "display_name": "Python 3",
   "language": "python",
   "name": "python3"
  },
  "language_info": {
   "codemirror_mode": {
    "name": "ipython",
    "version": 2
   },
   "file_extension": ".py",
   "mimetype": "text/x-python",
   "name": "python",
   "nbconvert_exporter": "python",
   "pygments_lexer": "ipython2",
   "version": "2.7.6"
  }
 },
 "nbformat": 4,
 "nbformat_minor": 5
}
