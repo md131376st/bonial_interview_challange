{
 "cells": [
  {
   "metadata": {},
   "cell_type": "markdown",
   "source": [
    "# label Creation\n",
    "according to the document a user  is active when it's id is ether in brochure_view or app start"
   ],
   "id": "9db0d08ce60638db"
  },
  {
   "metadata": {
    "ExecuteTime": {
     "end_time": "2024-12-19T16:19:13.698032Z",
     "start_time": "2024-12-19T16:19:13.694429Z"
    }
   },
   "cell_type": "code",
   "source": [
    "import pandas as pd\n",
    "import numpy as np\n",
    "import os\n",
    "import matplotlib.pyplot as plt\n",
    "import seaborn as sns\n",
    "\n",
    "BASE_DIR = os.path.abspath(\"..\")"
   ],
   "id": "cc180e7c54b8e4ed",
   "outputs": [],
   "execution_count": 2
  },
  {
   "metadata": {
    "ExecuteTime": {
     "end_time": "2024-12-19T16:19:16.069844Z",
     "start_time": "2024-12-19T16:19:16.032387Z"
    }
   },
   "cell_type": "code",
   "source": [
    "# load the clean data set\n",
    "from src.genral import restore_dataframes_from_pickle\n",
    "file_names = ['installs.pkl', 'brochure_views.pkl', 'brochure_views_july.pkl', 'app_starts.pkl', 'app_starts_july.pkl']\n",
    "SAVE_CLEAN_DATA_PATH = os.path.join(BASE_DIR, \"data\", \"clean_data\")\n",
    "[installs, brochure_views, brochure_views_july, app_starts, app_starts_july] = restore_dataframes_from_pickle(file_names, SAVE_CLEAN_DATA_PATH)"
   ],
   "id": "13612ee899d6029c",
   "outputs": [
    {
     "name": "stdout",
     "output_type": "stream",
     "text": [
      "File restored successfully: C:\\Users\\mona1\\PycharmProjects\\scientificProject\\data\\clean_data\\installs.pkl\n",
      "File restored successfully: C:\\Users\\mona1\\PycharmProjects\\scientificProject\\data\\clean_data\\brochure_views.pkl\n",
      "File restored successfully: C:\\Users\\mona1\\PycharmProjects\\scientificProject\\data\\clean_data\\brochure_views_july.pkl\n",
      "File restored successfully: C:\\Users\\mona1\\PycharmProjects\\scientificProject\\data\\clean_data\\app_starts.pkl\n",
      "File restored successfully: C:\\Users\\mona1\\PycharmProjects\\scientificProject\\data\\clean_data\\app_starts_july.pkl\n"
     ]
    }
   ],
   "execution_count": 3
  },
  {
   "metadata": {},
   "cell_type": "code",
   "source": "active_users_july = set(brochure_views_july['userId'].unique()) | set(app_starts_july['userId'].unique())\n",
   "id": "fdc1afe1a1ada3b1",
   "outputs": [],
   "execution_count": null
  },
  {
   "metadata": {},
   "cell_type": "markdown",
   "source": [
    "# feature Engineering\n",
    "the analysis will go on only userIds in the installed text file"
   ],
   "id": "921d5b5e78e05580"
  },
  {
   "metadata": {},
   "cell_type": "code",
   "source": [
    "print(brochure_views.shape)\n",
    "print(app_starts.shape)\n",
    "brochure_views = brochure_views[brochure_views['userId'].isin(installs['userId'])]\n",
    "app_starts= app_starts[app_starts['userId'].isin(installs['userId'])]\n",
    "display(brochure_views.head())\n",
    "print(brochure_views.shape)\n",
    "print(app_starts.shape)"
   ],
   "id": "56e8e2ef354a2e99",
   "outputs": [],
   "execution_count": null
  },
  {
   "metadata": {},
   "cell_type": "code",
   "source": [
    "from datetime import datetime\n",
    "\n",
    "start_date = '2017-04-01'\n",
    "end_date = '2017-07-01'\n",
    "cutoff_date = datetime(2018,7,1)"
   ],
   "id": "cac99be4988c0029",
   "outputs": [],
   "execution_count": null
  },
  {
   "metadata": {},
   "cell_type": "code",
   "source": [
    "start_dt = pd.to_datetime(start_date)\n",
    "end_dt = pd.to_datetime(end_date)"
   ],
   "id": "67679f687d874c04",
   "outputs": [],
   "execution_count": null
  },
  {
   "metadata": {},
   "cell_type": "code",
   "source": [
    "bv_period = brochure_views[(brochure_views['dateCreated'] >= start_dt) &\n",
    "                           (brochure_views['dateCreated'] < end_dt)].copy()\n",
    "as_period = app_starts[(app_starts['dateCreated'] >= start_dt) &\n",
    "                       (app_starts['dateCreated'] < end_dt)].copy()\n",
    "display(bv_period.head())\n",
    "display(as_period.head())"
   ],
   "id": "1b37ab4e8e07e8d9",
   "outputs": [],
   "execution_count": null
  },
  {
   "metadata": {},
   "cell_type": "code",
   "source": [
    "events = pd.concat(\n",
    "    [bv_period[['userId', 'dateCreated']], as_period[['userId', 'dateCreated']]],\n",
    "    ignore_index=True\n",
    ")\n",
    "display(events.head())\n",
    "print(events.shape)"
   ],
   "id": "9171fd70b647ecd8",
   "outputs": [],
   "execution_count": null
  },
  {
   "metadata": {},
   "cell_type": "code",
   "source": "",
   "id": "775d054a1cfb8912",
   "outputs": [],
   "execution_count": null
  },
  {
   "metadata": {},
   "cell_type": "markdown",
   "source": "## Recency, Frequency, Intensity (RFI)\n",
   "id": "bb680180dec37f78"
  },
  {
   "metadata": {},
   "cell_type": "code",
   "source": [
    "user_last_eng = events.groupby('userId')['dateCreated'].max().reset_index()\n",
    "user_last_eng['days_since_last_engagement'] = (cutoff_date - user_last_eng['dateCreated']).dt.days\n",
    "user_last_eng['days_since_last_engagement'] = user_last_eng['days_since_last_engagement'].clip(lower=0)\n",
    "display(user_last_eng)\n",
    "user_last_eng.drop(columns='dateCreated', inplace=True)"
   ],
   "id": "5c40616024966776",
   "outputs": [],
   "execution_count": null
  },
  {
   "metadata": {},
   "cell_type": "code",
   "source": [
    "frequency = events.groupby('userId').agg(total_events=('userId', 'count')).reset_index()\n",
    "frequency.head()"
   ],
   "id": "ba9bc42eafe902f3",
   "outputs": [],
   "execution_count": null
  },
  {
   "metadata": {},
   "cell_type": "code",
   "source": [
    "intensity = bv_period.groupby('userId').agg(\n",
    "        avg_view_duration=('view_duration_log', 'mean'),\n",
    "        total_page_turns=('page_turn_count_log', 'sum')\n",
    "    ).reset_index().fillna(0)\n",
    "intensity.head()"
   ],
   "id": "626febe082c4d969",
   "outputs": [],
   "execution_count": null
  },
  {
   "metadata": {},
   "cell_type": "code",
   "source": [
    "features = (user_last_eng.merge(frequency, on='userId', how='left')\n",
    "                .merge(intensity, on='userId', how='left'))\n"
   ],
   "id": "17c2d97d1898db39",
   "outputs": [],
   "execution_count": null
  },
  {
   "metadata": {},
   "cell_type": "code",
   "source": [
    "first_interaction = events.groupby('userId')['dateCreated'].min().reset_index()\n",
    "first_interaction.rename(columns={'dateCreated': 'first_interaction_date'}, inplace=True)\n",
    "installs = installs.merge(first_interaction, on='userId', how='left')\n",
    "display(installs.head())\n",
    "installs['install_to_first_interaction_days'] = (\n",
    "    (installs['first_interaction_date'] - installs['InstallDate']).dt.days\n",
    ").clip(lower=0)\n",
    "mean_install_to_first_interaction = installs['install_to_first_interaction_days'].mean()\n",
    "installs['install_to_first_interaction_days'] = installs['install_to_first_interaction_days'].fillna(mean_install_to_first_interaction)\n",
    "features = features.merge(\n",
    "        installs[['userId', 'install_to_first_interaction_days']],\n",
    "        on='userId',\n",
    "        how='left'\n",
    ")\n"
   ],
   "id": "d5a7b2f1eaf74e85",
   "outputs": [],
   "execution_count": null
  },
  {
   "metadata": {},
   "cell_type": "code",
   "source": [
    "mean_install_to_first_interaction = installs['install_to_first_interaction_days'].mean()\n",
    "mean_install_to_first_interaction"
   ],
   "id": "f223e3e2df9492c9",
   "outputs": [],
   "execution_count": null
  },
  {
   "metadata": {},
   "cell_type": "code",
   "source": "display(features.head())",
   "id": "6d56f329183b1c96",
   "outputs": [],
   "execution_count": null
  },
  {
   "metadata": {},
   "cell_type": "markdown",
   "source": "## monthly aggregates\n",
   "id": "d34bd01b1bfd89a8"
  },
  {
   "metadata": {},
   "cell_type": "code",
   "source": [
    "from src.feature_selection import get_months_in_range\n",
    "\n",
    "months_in_range = get_months_in_range(start_dt, end_dt)\n",
    "bv_period['year_month'] = bv_period['dateCreated'].dt.to_period('M')\n",
    "\n",
    "monthly_agg = bv_period.groupby(['userId', 'year_month']).agg(\n",
    "    monthly_views=('userId', 'count'),\n",
    "    monthly_avg_duration=('view_duration_log', 'mean'),\n",
    "    monthly_total_pages=('page_turn_count_log', 'sum')\n",
    ").reset_index()\n",
    "\n",
    "monthly_features = monthly_agg.pivot_table(\n",
    "    index='userId',\n",
    "    columns='year_month',\n",
    "    values=['monthly_views', 'monthly_avg_duration', 'monthly_total_pages'],\n",
    "    fill_value=0\n",
    ")"
   ],
   "id": "5039e340d8876598",
   "outputs": [],
   "execution_count": null
  },
  {
   "metadata": {},
   "cell_type": "code",
   "source": [
    "print(months_in_range)\n",
    "print(\" Monthly Aggregates\")\n",
    "display(monthly_agg.head())\n",
    "display(monthly_features.head())"
   ],
   "id": "1607974b8b8db7bb",
   "outputs": [],
   "execution_count": null
  },
  {
   "metadata": {},
   "cell_type": "code",
   "source": [
    "monthly_features.columns=[''.join([str(c) for c in col]) for col in monthly_features.columns]\n",
    "print(monthly_features.columns)"
   ],
   "id": "26f516f3e089c1bc",
   "outputs": [],
   "execution_count": null
  },
  {
   "metadata": {},
   "cell_type": "code",
   "source": [
    "for ym in months_in_range:\n",
    "    ym_str = str(ym)\n",
    "    if f'monthly_views{ym_str}' not in monthly_features.columns:\n",
    "        monthly_features[f'monthly_views{ym_str}'] = 0\n",
    "        monthly_features[f'monthly_avg_duration{ym_str}'] = 0\n",
    "        monthly_features[f'monthly_total_pages{ym_str}'] = 0"
   ],
   "id": "306c4acef529e34f",
   "outputs": [],
   "execution_count": null
  },
  {
   "metadata": {},
   "cell_type": "code",
   "source": [
    "features = features.merge(monthly_features, on='userId', how='left')\n",
    "display(features.head())"
   ],
   "id": "8229458203026f21",
   "outputs": [],
   "execution_count": null
  },
  {
   "metadata": {},
   "cell_type": "markdown",
   "source": "## 3. Active Days & Distinct Brochures",
   "id": "12bc23cbfb1fd37a"
  },
  {
   "metadata": {},
   "cell_type": "code",
   "source": [
    "bv_period['view_date'] = bv_period['dateCreated'].dt.date\n",
    "active_days = bv_period.groupby('userId')['view_date'].nunique().reset_index()\n",
    "active_days.rename(columns={'view_date': 'active_days'}, inplace=True)\n",
    "\n",
    "distinct_brochures = bv_period.groupby('userId')['brochure_id'].nunique().reset_index()\n",
    "distinct_brochures.rename(columns={'brochure_id': 'distinct_brochures'}, inplace=True)\n",
    "\n",
    "features = features.merge(active_days, on='userId', how='left') \\\n",
    "    .merge(distinct_brochures, on='userId', how='left')"
   ],
   "id": "8f74ef3862b86814",
   "outputs": [],
   "execution_count": null
  },
  {
   "metadata": {},
   "cell_type": "code",
   "source": "display(features.head())",
   "id": "41ca479a194d18dc",
   "outputs": [],
   "execution_count": null
  },
  {
   "metadata": {},
   "cell_type": "markdown",
   "source": "# 4. Trend Features (Month-over-Month Differences)\n",
   "id": "43c4cfbdfa05934"
  },
  {
   "metadata": {},
   "cell_type": "code",
   "source": [
    "trend_agg = bv_period.groupby(['userId', 'year_month']).agg(\n",
    "    monthly_views=('userId', 'count')\n",
    ").reset_index()\n",
    "\n",
    "# Pivot by year_month\n",
    "trend_pivot = trend_agg.pivot(index='userId', columns='year_month', values='monthly_views').fillna(0)\n",
    "\n",
    "# Ensure all months present in the pivot (in case some months had no data)\n",
    "for ym in months_in_range:\n",
    "    if ym not in trend_pivot.columns:\n",
    "        trend_pivot[ym] = 0\n",
    "\n",
    "# Sort the columns by year_month period to compute differences correctly\n",
    "sorted_months = sorted(months_in_range)\n",
    "# Rename columns to views_YYYY-MM\n",
    "trend_pivot.rename(columns={m: f'views_{m}' for m in trend_pivot.columns}, inplace=True)\n",
    "\n",
    "# Compute differences between consecutive months\n",
    "for i in range(1, len(sorted_months)-1):\n",
    "    curr = sorted_months[i]\n",
    "    prev = sorted_months[i - 1]\n",
    "    curr_str = f'views_{curr}'\n",
    "    prev_str = f'views_{prev}'\n",
    "    trend_pivot[f'views_diff_{curr}_vs_{prev}'] = trend_pivot[curr_str] - trend_pivot[prev_str]\n",
    "\n",
    "features = features.merge(trend_pivot, on='userId', how='left')\n",
    "features = features.fillna(0)"
   ],
   "id": "426f76d71a5c5d81",
   "outputs": [],
   "execution_count": null
  },
  {
   "metadata": {},
   "cell_type": "code",
   "source": [
    "display(features.head())\n",
    "print(features.shape)"
   ],
   "id": "524efee497d9e884",
   "outputs": [],
   "execution_count": null
  },
  {
   "metadata": {},
   "cell_type": "markdown",
   "source": [
    "# Generating Test, Validation, and Training Sets\n",
    "To perform hyperparameter tuning and model evaluation, we use two different data splits. A third split is reserved for predictions. The data is utilized as follows:\n",
    "\n",
    "1. **Split 1**:\n",
    "   - **Training Set**: April\n",
    "   - **Validation Set**: May\n",
    "\n",
    "2. **Split 2**:\n",
    "   - **Training Set**: April and May\n",
    "   - **Validation Set**: June\n",
    "\n",
    "3. **Final Prediction Split**:\n",
    "   - **Training Set**: April, May, and June\n",
    "   - **Test Set**: July\n",
    "\n",
    "4. **Deployment Phase**:\n",
    "   - **Training Set**: April, May, June, and July"
   ],
   "id": "d70efcd10dbbaee"
  },
  {
   "metadata": {},
   "cell_type": "markdown",
   "source": [
    "## generating the splits\n",
    "\n"
   ],
   "id": "d76fcdaa3ff3629a"
  },
  {
   "metadata": {},
   "cell_type": "code",
   "source": [
    "\n",
    "from src.feature_selection import engineer_features_all, generate_active_label\n",
    "from datetime import datetime\n",
    "brochure_views = brochure_views[brochure_views['userId'].isin(installs['userId'])]\n",
    "app_starts= app_starts[app_starts['userId'].isin(installs['userId'])]\n",
    "\n",
    "# start_date = '2017-04-01'\n",
    "# end_date = '2017-05-01'\n",
    "# cutoff_date = datetime(2017,5,1)\n",
    "# print(brochure_views.shape)\n",
    "# print(app_starts.shape)\n",
    "#\n",
    "# features = engineer_features_all(\n",
    "#     brochure_views,\n",
    "#     app_starts,\n",
    "#     installs,\n",
    "#     start_date,\n",
    "#     end_date,\n",
    "#     cutoff_date\n",
    "# )\n",
    "# activity_start='2017-05-01'\n",
    "# activity_end='2017-06-01'\n",
    "# label = generate_active_label(\n",
    "#     brochure_views,\n",
    "#     app_starts,\n",
    "#     activity_start,\n",
    "#     activity_end\n",
    "# )\n",
    "# features = features.merge(label, on='userId', how='left')\n",
    "# features = features.fillna(0)"
   ],
   "id": "5c900d0b7e70c26",
   "outputs": [],
   "execution_count": null
  },
  {
   "metadata": {
    "ExecuteTime": {
     "end_time": "2024-12-19T16:19:49.326495Z",
     "start_time": "2024-12-19T16:19:48.157513Z"
    }
   },
   "cell_type": "code",
   "source": [
    "from src.fold_split import generate_splits_and_save\n",
    "brochure_views = brochure_views[brochure_views['userId'].isin(installs['userId'])]\n",
    "app_starts= app_starts[app_starts['userId'].isin(installs['userId'])]\n",
    "\n",
    "SAVE_CLEAN_DATA_PATH = os.path.join(BASE_DIR, \"data\", \"train_set\")\n",
    "brochure_views = brochure_views[brochure_views['userId'].isin(installs['userId'])]\n",
    "app_starts= app_starts[app_starts['userId'].isin(installs['userId'])]\n",
    "\n",
    "generate_splits_and_save(\n",
    "    brochure_views=brochure_views,\n",
    "    app_starts=app_starts,\n",
    "    installs=installs,\n",
    "\n",
    "    base_dir=BASE_DIR,\n",
    "    save_clean_data_path=SAVE_CLEAN_DATA_PATH,\n",
    "\n",
    ")\n"
   ],
   "id": "b5f19cb015c42cc4",
   "outputs": [
    {
     "name": "stdout",
     "output_type": "stream",
     "text": [
      "Processing FOLD_1:\n",
      "  Training Set: 2017-04-01 to 2017-04-30\n",
      "Saved Training Features: fold_1_train.pkl\n",
      "  Validation/Test Set: 2017-05-01 to 2017-05-31\n",
      "Saved Validation/Test Features: fold_1_validation_or_test.pkl\n",
      "Processing FOLD_2:\n",
      "  Training Set: 2017-04-01 to 2017-05-31\n",
      "Saved Training Features: fold_2_train.pkl\n",
      "  Validation/Test Set: 2017-06-01 to 2017-06-30\n",
      "Saved Validation/Test Features: fold_2_validation_or_test.pkl\n",
      "All splits processed and saved successfully!\n"
     ]
    }
   ],
   "execution_count": 4
  },
  {
   "metadata": {
    "ExecuteTime": {
     "end_time": "2024-12-19T16:43:27.591310Z",
     "start_time": "2024-12-19T16:43:26.887559Z"
    }
   },
   "cell_type": "code",
   "source": [
    "from src.feature_selection import engineer_features_all\n",
    "from src.feature_selection import generate_active_label\n",
    "train_start_date = '2017-04-01'\n",
    "train_end_date = '2017-06-30'\n",
    "train_cutoff_date = pd.to_datetime('2017-07-01')\n",
    "train_label_start = '2017-06-01'\n",
    "train_label_end = '2017-06-30'\n",
    "\n",
    "validation_start_date = '2017-07-01'\n",
    "validation_end_date = '2017-07-31'\n",
    "validation_cutoff_date = pd.to_datetime('2017-08-01')\n",
    "validation_label_start = '2017-07-01'\n",
    "validation_label_end = '2017-07-31'\n",
    "\n",
    "train_features = engineer_features_all(\n",
    "    brochure_views=brochure_views,\n",
    "    app_starts=app_starts,\n",
    "    installs=installs,\n",
    "    start_date=train_start_date,\n",
    "    end_date=train_end_date,\n",
    "    cutoff_date=train_cutoff_date\n",
    ")\n",
    "train_labels = generate_active_label(\n",
    "    brochure_views=brochure_views,\n",
    "    app_starts=app_starts,\n",
    "    activity_start=train_label_start,\n",
    "    activity_end=train_label_end\n",
    ")\n",
    "train_features = train_features.merge(train_labels, on='userId', how='left')\n",
    "train_features = train_features.fillna(0)\n",
    "train_filename = \"fold_3_train.pkl\"\n",
    "\n",
    "validation_features = engineer_features_all(\n",
    "    brochure_views=brochure_views_july,\n",
    "    app_starts=app_starts_july,\n",
    "    installs=installs,\n",
    "    start_date=validation_start_date,\n",
    "    end_date=validation_end_date,\n",
    "    cutoff_date=validation_cutoff_date\n",
    ")\n",
    "validation_labels = generate_active_label(\n",
    "    brochure_views=brochure_views_july,\n",
    "    app_starts=app_starts_july,\n",
    "    activity_start=validation_label_start,\n",
    "    activity_end=validation_label_end\n",
    ")"
   ],
   "id": "4359db4529158b6f",
   "outputs": [],
   "execution_count": 5
  },
  {
   "metadata": {
    "ExecuteTime": {
     "end_time": "2024-12-19T16:43:42.561388Z",
     "start_time": "2024-12-19T16:43:42.558647Z"
    }
   },
   "cell_type": "code",
   "source": "validation_filename = \"fold_3_validation.pkl\"\n",
   "id": "37976cfbba756f87",
   "outputs": [],
   "execution_count": 6
  },
  {
   "metadata": {
    "ExecuteTime": {
     "end_time": "2024-12-19T16:43:46.395226Z",
     "start_time": "2024-12-19T16:43:46.385124Z"
    }
   },
   "cell_type": "code",
   "source": [
    "\n",
    "validation_features = validation_features.merge(train_labels, on='userId', how='left')\n",
    "validation_features = validation_features.fillna(0)\n"
   ],
   "id": "ba509760270a4621",
   "outputs": [],
   "execution_count": 7
  },
  {
   "metadata": {},
   "cell_type": "code",
   "source": "",
   "id": "f37fce897f763c15",
   "outputs": [],
   "execution_count": null
  },
  {
   "metadata": {
    "ExecuteTime": {
     "end_time": "2024-12-19T16:43:52.761024Z",
     "start_time": "2024-12-19T16:43:52.747321Z"
    }
   },
   "cell_type": "code",
   "source": [
    "from src.genral import save_dataframes_to_pickle\n",
    "Final_DATA = os.path.join(BASE_DIR, \"data\", \"final_data\")\n",
    "save_dataframes_to_pickle([train_features,validation_features ], [train_filename, validation_filename], Final_DATA)"
   ],
   "id": "909fa5daf4cbf018",
   "outputs": [
    {
     "name": "stdout",
     "output_type": "stream",
     "text": [
      "File saved successfully: C:\\Users\\mona1\\PycharmProjects\\scientificProject\\data\\final_data\\fold_3_train.pkl\n",
      "File saved successfully: C:\\Users\\mona1\\PycharmProjects\\scientificProject\\data\\final_data\\fold_3_validation.pkl\n"
     ]
    }
   ],
   "execution_count": 8
  }
 ],
 "metadata": {
  "kernelspec": {
   "display_name": "Python 3",
   "language": "python",
   "name": "python3"
  },
  "language_info": {
   "codemirror_mode": {
    "name": "ipython",
    "version": 2
   },
   "file_extension": ".py",
   "mimetype": "text/x-python",
   "name": "python",
   "nbconvert_exporter": "python",
   "pygments_lexer": "ipython2",
   "version": "2.7.6"
  }
 },
 "nbformat": 4,
 "nbformat_minor": 5
}
