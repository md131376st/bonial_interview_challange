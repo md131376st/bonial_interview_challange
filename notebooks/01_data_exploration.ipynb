{
 "cells": [
  {
   "cell_type": "markdown",
   "metadata": {},
   "source": [
    "# Goal\n",
    "1. load row data\n",
    "2. convert text data to correct datatype\n",
    "3. show static's about data\n",
    "3. visualize row data ( understand the data we are using)"
   ]
  },
  {
   "cell_type": "code",
   "metadata": {},
   "source": [
    "import pandas as pd\n",
    "import numpy as np\n",
    "import os\n",
    "import matplotlib.pyplot as plt\n",
    "import seaborn as sns\n"
   ],
   "outputs": [],
   "execution_count": null
  },
  {
   "cell_type": "code",
   "metadata": {},
   "source": [
    "BASE_DIR = os.path.abspath(\"..\")\n",
    "RAW_DATA_PATH = os.path.join(BASE_DIR, \"dataset\")\n"
   ],
   "outputs": [],
   "execution_count": null
  },
  {
   "cell_type": "code",
   "metadata": {},
   "source": [
    "installs = pd.read_csv(os.path.join(RAW_DATA_PATH, \"installs.txt\"), sep=\"\\t\")\n",
    "brochure_views = pd.read_csv(os.path.join(RAW_DATA_PATH, \"brochure views.txt\"), sep=\"\\t\")\n",
    "brochure_views_july = pd.read_csv(os.path.join(RAW_DATA_PATH, \"brochure views july.txt\"), sep=\"\\t\")\n",
    "app_starts = pd.read_csv(os.path.join(RAW_DATA_PATH, \"app starts.txt\"), sep=\"\\t\")\n",
    "app_starts_july = pd.read_csv(os.path.join(RAW_DATA_PATH, \"app starts july.txt\"), sep=\"\\t\")"
   ],
   "outputs": [],
   "execution_count": null
  },
  {
   "metadata": {},
   "cell_type": "markdown",
   "source": "## convert datatypes"
  },
  {
   "metadata": {},
   "cell_type": "code",
   "source": [
    "print(installs.info())\n",
    "print(brochure_views.info())\n",
    "print(app_starts.info())"
   ],
   "outputs": [],
   "execution_count": null
  },
  {
   "cell_type": "code",
   "metadata": {},
   "source": [
    "installs['InstallDate'] = pd.to_datetime(installs['InstallDate'], errors='coerce')\n",
    "brochure_views['dateCreated'] = pd.to_datetime(brochure_views['dateCreated'], errors='coerce')\n",
    "brochure_views_july['dateCreated'] = pd.to_datetime(brochure_views_july['dateCreated'], errors='coerce')\n",
    "app_starts['dateCreated'] = pd.to_datetime(app_starts['dateCreated'], errors='coerce')\n",
    "app_starts_july['dateCreated'] = pd.to_datetime(app_starts_july['dateCreated'], errors='coerce')"
   ],
   "outputs": [],
   "execution_count": null
  },
  {
   "metadata": {},
   "cell_type": "markdown",
   "source": [
    "## data overview\n",
    "\n"
   ]
  },
  {
   "metadata": {},
   "cell_type": "code",
   "source": [
    "print(\"Data Shapes:\")\n",
    "print(\"Installs:\", installs.shape)\n",
    "print(\"Brochure Views:\", brochure_views.shape)\n",
    "print(\"Brochure Views July (Test):\", brochure_views_july.shape)\n",
    "print(\"App Starts:\", app_starts.shape)\n",
    "print(\"App Starts July (Test):\", app_starts_july.shape)\n",
    "\n"
   ],
   "outputs": [],
   "execution_count": null
  },
  {
   "metadata": {},
   "cell_type": "code",
   "source": [
    "print(\"\\nPreview of Installs:\")\n",
    "display(installs.head())\n",
    "\n",
    "print(\"\\nPreview of Brochure Views:\")\n",
    "display(brochure_views.head())\n",
    "\n",
    "print(\"\\nPreview of App Starts:\")\n",
    "display(app_starts.head())\n"
   ],
   "outputs": [],
   "execution_count": null
  },
  {
   "metadata": {},
   "cell_type": "code",
   "source": [
    "print(\"Missing Values:\")\n",
    "print(\"Missing in Installs:\\n\", installs.isna().sum())\n",
    "print(\"Missing in Brochure Views:\\n\", brochure_views.isna().sum())\n",
    "print(\"Missing in App Starts:\\n\", app_starts.isna().sum())"
   ],
   "outputs": [],
   "execution_count": null
  },
  {
   "metadata": {},
   "cell_type": "markdown",
   "source": [
    "### duration analysis on row data\n",
    "after viewing the data on brochure_views it was observed that the view_duration had missing values and data errors with negative duration\n"
   ]
  },
  {
   "metadata": {},
   "cell_type": "code",
   "source": [
    "column ='view_duration'\n",
    "missing_duration = brochure_views[brochure_views[column].isna()]\n",
    "missing_count = missing_duration.shape[0]\n",
    "print(\"Number of rows with missing view_duration:\", missing_count)\n",
    "percentage_missing = (missing_count / brochure_views.shape[0]) * 100\n",
    "print(\"Percentage of missing view_duration:\", percentage_missing)\n",
    "display(missing_duration.head())\n",
    "print(f\"min duration value: {brochure_views[column].min()}\")\n",
    "# finding positive min value for replacing as view duration\n",
    "print(f\"min positive duration value: {brochure_views[column][brochure_views[column]>0].min()}\")\n"
   ],
   "outputs": [],
   "execution_count": null
  },
  {
   "metadata": {},
   "cell_type": "code",
   "source": [
    "negative_count = (brochure_views[column] < 0).sum()\n",
    "percentage_negative_duration = (negative_count / brochure_views.shape[0]) * 100\n",
    "print(\"Number of rows with negative view_duration:\", negative_count)\n",
    "print(\"Percentage of negative view_duration:\", percentage_negative_duration)"
   ],
   "outputs": [],
   "execution_count": null
  },
  {
   "metadata": {},
   "cell_type": "code",
   "source": [
    "plt.figure(figsize=(4,4))\n",
    "sns.histplot(brochure_views['view_duration'], kde=True)\n",
    "plt.title(\"Box Plot of Raw View Duration\")\n",
    "plt.tight_layout()\n",
    "plt.show()"
   ],
   "outputs": [],
   "execution_count": null
  },
  {
   "metadata": {},
   "cell_type": "code",
   "source": [
    "# Checking page_turn_count distribution\n",
    "plt.figure(figsize=(4,4))\n",
    "sns.histplot(brochure_views['page_turn_count'], kde=True)\n",
    "plt.title(\"Distribution of Page Turn Count (April-June)\")\n",
    "plt.xlabel(\"Page Turn Count\")\n",
    "plt.ylabel(\"Frequency\")\n",
    "plt.tight_layout()\n",
    "plt.show()\n"
   ],
   "outputs": [],
   "execution_count": null
  },
  {
   "metadata": {},
   "cell_type": "code",
   "source": [
    "# view Duplicate values\n",
    "print(\"Duplicates in installs:\", installs.duplicated().sum())\n",
    "print(\"Duplicates in brochure_views:\", brochure_views.duplicated().sum())\n",
    "print(\"Duplicates in app_starts:\", app_starts.duplicated().sum())"
   ],
   "outputs": [],
   "execution_count": null
  },
  {
   "metadata": {},
   "cell_type": "markdown",
   "source": "### app_starts analysis"
  },
  {
   "metadata": {},
   "cell_type": "code",
   "source": [
    "# have a sample of duplicated values\n",
    "duplicated_rows = app_starts[app_starts.duplicated(keep=False)]\n",
    "\n",
    "print(f\"Number of duplicated rows in app_starts: {duplicated_rows.shape[0]}\")\n",
    "display(duplicated_rows.head())"
   ],
   "outputs": [],
   "execution_count": null
  },
  {
   "metadata": {},
   "cell_type": "markdown",
   "source": "### check for inconstancy app_start\n"
  },
  {
   "metadata": {},
   "cell_type": "code",
   "source": [
    "\n",
    "app_starts.drop_duplicates(inplace=True)\n",
    "# get the earliest installation\n",
    "user_earliest_install = installs.groupby('userId', as_index=False)['InstallDate'].min()\n",
    "user_earliest_install.rename(columns={'InstallDate': 'earliest_install_date'}, inplace=True)\n",
    "\n",
    "app_starts_install = app_starts.merge(user_earliest_install, on='userId', how='left')\n",
    "app_starts_filtered = app_starts_install[app_starts_install['dateCreated'] >= app_starts_install['earliest_install_date']]\n",
    "print(\"Original app_starts rows:\", app_starts.shape[0])\n",
    "print(\"Filtered app_starts rows:\", app_starts_filtered.shape[0])\n",
    "consistent_data = (app_starts_filtered.shape[0] / app_starts.shape[0]) * 100\n",
    "print(\"Percentage of inconsistent app_starts:\", consistent_data)\n",
    "display(app_starts_filtered.head())"
   ],
   "outputs": [],
   "execution_count": null
  },
  {
   "metadata": {},
   "cell_type": "markdown",
   "source": "### analyse install data"
  },
  {
   "metadata": {},
   "cell_type": "code",
   "source": [
    "installs_unique = installs.drop_duplicates(subset='userId', keep='first')\n",
    "print(\"Number of  installs:\", installs.shape[0])\n",
    "print(\"Number of unique installs:\", installs_unique.shape[0])"
   ],
   "outputs": [],
   "execution_count": null
  },
  {
   "metadata": {},
   "cell_type": "markdown",
   "source": "### static summary\n"
  },
  {
   "metadata": {},
   "cell_type": "code",
   "source": [
    "print(\"\\nSummary Statistics for Installs:\")\n",
    "display(installs.describe())\n",
    "\n",
    "print(\"\\nSummary Statistics for Brochure Views (April-June):\")\n",
    "display(brochure_views.describe())\n",
    "\n",
    "print(\"\\nSummary Statistics for App Starts (April-June):\")\n",
    "display(app_starts.describe())\n",
    "\n",
    "# Summary statistics for categorical columns\n",
    "print(\"\\nCategorical Data Summary - Installs:\")\n",
    "display(installs.describe(include=['object']))\n",
    "\n",
    "print(\"\\nCategorical Data Summary - Brochure Views (April-June):\")\n",
    "display(brochure_views.describe(include=['object']))\n",
    "\n",
    "print(\"\\nCategorical Data Summary - App Starts (April-June):\")\n",
    "display(app_starts.describe(include=['object']))"
   ],
   "outputs": [],
   "execution_count": null
  }
 ],
 "metadata": {
  "kernelspec": {
   "display_name": "Python 3 (ipykernel)",
   "language": "python",
   "name": "python3"
  },
  "language_info": {
   "codemirror_mode": {
    "name": "ipython",
    "version": 3
   },
   "file_extension": ".py",
   "mimetype": "text/x-python",
   "name": "python",
   "nbconvert_exporter": "python",
   "pygments_lexer": "ipython3",
   "version": "3.13.1"
  }
 },
 "nbformat": 4,
 "nbformat_minor": 4
}
