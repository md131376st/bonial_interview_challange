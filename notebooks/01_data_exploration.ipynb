{
 "cells": [
  {
   "cell_type": "markdown",
   "metadata": {},
   "source": [
    "# Goal\n",
    "1. load row data\n",
    "2. convert text data to correct datatype\n",
    "3. show static's about data\n",
    "3. visualize row data ( understand the data we are using)"
   ]
  },
  {
   "cell_type": "code",
   "metadata": {
    "ExecuteTime": {
     "end_time": "2024-12-17T22:41:39.770576Z",
     "start_time": "2024-12-17T22:41:38.888596Z"
    }
   },
   "source": [
    "import pandas as pd\n",
    "import numpy as np\n",
    "import os\n",
    "import matplotlib.pyplot as plt\n",
    "import seaborn as sns\n"
   ],
   "outputs": [],
   "execution_count": 13
  },
  {
   "cell_type": "code",
   "metadata": {
    "ExecuteTime": {
     "end_time": "2024-12-17T22:35:27.837694Z",
     "start_time": "2024-12-17T22:35:27.833993Z"
    }
   },
   "source": [
    "BASE_DIR = os.path.abspath(\"..\")\n",
    "RAW_DATA_PATH = os.path.join(BASE_DIR, \"dataset\")\n"
   ],
   "outputs": [],
   "execution_count": 2
  },
  {
   "cell_type": "code",
   "metadata": {
    "ExecuteTime": {
     "end_time": "2024-12-17T22:35:28.469631Z",
     "start_time": "2024-12-17T22:35:27.894211Z"
    }
   },
   "source": [
    "installs = pd.read_csv(os.path.join(RAW_DATA_PATH, \"installs.txt\"), sep=\"\\t\")\n",
    "brochure_views = pd.read_csv(os.path.join(RAW_DATA_PATH, \"brochure views.txt\"), sep=\"\\t\")\n",
    "brochure_views_july = pd.read_csv(os.path.join(RAW_DATA_PATH, \"brochure views july.txt\"), sep=\"\\t\")\n",
    "app_starts = pd.read_csv(os.path.join(RAW_DATA_PATH, \"app starts.txt\"), sep=\"\\t\")\n",
    "app_starts_july = pd.read_csv(os.path.join(RAW_DATA_PATH, \"app starts july.txt\"), sep=\"\\t\")"
   ],
   "outputs": [],
   "execution_count": 3
  },
  {
   "metadata": {},
   "cell_type": "markdown",
   "source": "## convert datatypes"
  },
  {
   "metadata": {
    "ExecuteTime": {
     "end_time": "2024-12-17T22:35:28.515147Z",
     "start_time": "2024-12-17T22:35:28.475240Z"
    }
   },
   "cell_type": "code",
   "source": [
    "print(installs.info())\n",
    "print(brochure_views.info())\n",
    "print(app_starts.info())"
   ],
   "outputs": [
    {
     "name": "stdout",
     "output_type": "stream",
     "text": [
      "<class 'pandas.core.frame.DataFrame'>\n",
      "RangeIndex: 20000 entries, 0 to 19999\n",
      "Data columns (total 6 columns):\n",
      " #   Column       Non-Null Count  Dtype \n",
      "---  ------       --------------  ----- \n",
      " 0   id           20000 non-null  int64 \n",
      " 1   InstallDate  20000 non-null  object\n",
      " 2   productId    20000 non-null  object\n",
      " 3   userId       20000 non-null  object\n",
      " 4   model        19963 non-null  object\n",
      " 5   campaignId   20000 non-null  object\n",
      "dtypes: int64(1), object(5)\n",
      "memory usage: 937.6+ KB\n",
      "None\n",
      "<class 'pandas.core.frame.DataFrame'>\n",
      "RangeIndex: 279213 entries, 0 to 279212\n",
      "Data columns (total 6 columns):\n",
      " #   Column           Non-Null Count   Dtype  \n",
      "---  ------           --------------   -----  \n",
      " 0   id               279213 non-null  int64  \n",
      " 1   userId           279213 non-null  object \n",
      " 2   dateCreated      279213 non-null  object \n",
      " 3   page_turn_count  279213 non-null  int64  \n",
      " 4   view_duration    269602 non-null  float64\n",
      " 5   brochure_id      279213 non-null  int64  \n",
      "dtypes: float64(1), int64(3), object(2)\n",
      "memory usage: 12.8+ MB\n",
      "None\n",
      "<class 'pandas.core.frame.DataFrame'>\n",
      "RangeIndex: 144104 entries, 0 to 144103\n",
      "Data columns (total 2 columns):\n",
      " #   Column       Non-Null Count   Dtype \n",
      "---  ------       --------------   ----- \n",
      " 0   dateCreated  144104 non-null  object\n",
      " 1   userId       144104 non-null  object\n",
      "dtypes: object(2)\n",
      "memory usage: 2.2+ MB\n",
      "None\n"
     ]
    }
   ],
   "execution_count": 4
  },
  {
   "cell_type": "code",
   "metadata": {
    "ExecuteTime": {
     "end_time": "2024-12-17T22:35:28.900521Z",
     "start_time": "2024-12-17T22:35:28.540846Z"
    }
   },
   "source": [
    "installs['InstallDate'] = pd.to_datetime(installs['InstallDate'], errors='coerce')\n",
    "brochure_views['dateCreated'] = pd.to_datetime(brochure_views['dateCreated'], errors='coerce')\n",
    "brochure_views_july['dateCreated'] = pd.to_datetime(brochure_views_july['dateCreated'], errors='coerce')\n",
    "app_starts['dateCreated'] = pd.to_datetime(app_starts['dateCreated'], errors='coerce')\n",
    "app_starts_july['dateCreated'] = pd.to_datetime(app_starts_july['dateCreated'], errors='coerce')"
   ],
   "outputs": [],
   "execution_count": 5
  },
  {
   "metadata": {},
   "cell_type": "markdown",
   "source": [
    "## data overview\n",
    "\n"
   ]
  },
  {
   "metadata": {
    "ExecuteTime": {
     "end_time": "2024-12-17T22:35:28.923390Z",
     "start_time": "2024-12-17T22:35:28.918902Z"
    }
   },
   "cell_type": "code",
   "source": [
    "print(\"Data Shapes:\")\n",
    "print(\"Installs:\", installs.shape)\n",
    "print(\"Brochure Views:\", brochure_views.shape)\n",
    "print(\"Brochure Views July (Test):\", brochure_views_july.shape)\n",
    "print(\"App Starts:\", app_starts.shape)\n",
    "print(\"App Starts July (Test):\", app_starts_july.shape)\n",
    "\n"
   ],
   "outputs": [
    {
     "name": "stdout",
     "output_type": "stream",
     "text": [
      "Data Shapes:\n",
      "Installs: (20000, 6)\n",
      "Brochure Views: (279213, 6)\n",
      "Brochure Views July (Test): (74431, 6)\n",
      "App Starts: (144104, 2)\n",
      "App Starts July (Test): (39969, 2)\n"
     ]
    }
   ],
   "execution_count": 6
  },
  {
   "metadata": {
    "ExecuteTime": {
     "end_time": "2024-12-17T22:35:28.958543Z",
     "start_time": "2024-12-17T22:35:28.934622Z"
    }
   },
   "cell_type": "code",
   "source": [
    "print(\"\\nPreview of Installs:\")\n",
    "display(installs.head())\n",
    "\n",
    "print(\"\\nPreview of Brochure Views:\")\n",
    "display(brochure_views.head())\n",
    "\n",
    "print(\"\\nPreview of App Starts:\")\n",
    "display(app_starts.head())\n"
   ],
   "outputs": [
    {
     "name": "stdout",
     "output_type": "stream",
     "text": [
      "\n",
      "Preview of Installs:\n"
     ]
    },
    {
     "data": {
      "text/plain": [
       "         id             InstallDate          productId  \\\n",
       "0  37371890 2017-05-04 10:06:27.807   de.kaufda.kaufda   \n",
       "1  36979918 2017-04-24 09:27:16.173  com-bonial-kaufda   \n",
       "2  37371070 2017-05-04 16:05:09.568   de.kaufda.kaufda   \n",
       "3  36897929 2017-04-22 13:18:18.437  com-bonial-kaufda   \n",
       "4  36606053 2017-04-15 14:03:51.199  com-bonial-kaufda   \n",
       "\n",
       "                                 userId      model campaignId  \n",
       "0  5fc13850-de51-4426-96ce-72aaec895abb    ipad2,7     000000  \n",
       "1  b13a035e-e9bf-49db-8f93-b49d491bef53   sm-g800f     3iikhy  \n",
       "2  5deb0aad-43bb-4ee1-868b-98f36c3d5bbf  iphone8,4     tl3cy8  \n",
       "3  64707e97-d5e1-4622-a89a-bebf8432fd33   sm-g955f     000000  \n",
       "4  770a391d-eda5-423b-b672-845f1e12661f   sm-j320h     000000  "
      ],
      "text/html": [
       "<div>\n",
       "<style scoped>\n",
       "    .dataframe tbody tr th:only-of-type {\n",
       "        vertical-align: middle;\n",
       "    }\n",
       "\n",
       "    .dataframe tbody tr th {\n",
       "        vertical-align: top;\n",
       "    }\n",
       "\n",
       "    .dataframe thead th {\n",
       "        text-align: right;\n",
       "    }\n",
       "</style>\n",
       "<table border=\"1\" class=\"dataframe\">\n",
       "  <thead>\n",
       "    <tr style=\"text-align: right;\">\n",
       "      <th></th>\n",
       "      <th>id</th>\n",
       "      <th>InstallDate</th>\n",
       "      <th>productId</th>\n",
       "      <th>userId</th>\n",
       "      <th>model</th>\n",
       "      <th>campaignId</th>\n",
       "    </tr>\n",
       "  </thead>\n",
       "  <tbody>\n",
       "    <tr>\n",
       "      <th>0</th>\n",
       "      <td>37371890</td>\n",
       "      <td>2017-05-04 10:06:27.807</td>\n",
       "      <td>de.kaufda.kaufda</td>\n",
       "      <td>5fc13850-de51-4426-96ce-72aaec895abb</td>\n",
       "      <td>ipad2,7</td>\n",
       "      <td>000000</td>\n",
       "    </tr>\n",
       "    <tr>\n",
       "      <th>1</th>\n",
       "      <td>36979918</td>\n",
       "      <td>2017-04-24 09:27:16.173</td>\n",
       "      <td>com-bonial-kaufda</td>\n",
       "      <td>b13a035e-e9bf-49db-8f93-b49d491bef53</td>\n",
       "      <td>sm-g800f</td>\n",
       "      <td>3iikhy</td>\n",
       "    </tr>\n",
       "    <tr>\n",
       "      <th>2</th>\n",
       "      <td>37371070</td>\n",
       "      <td>2017-05-04 16:05:09.568</td>\n",
       "      <td>de.kaufda.kaufda</td>\n",
       "      <td>5deb0aad-43bb-4ee1-868b-98f36c3d5bbf</td>\n",
       "      <td>iphone8,4</td>\n",
       "      <td>tl3cy8</td>\n",
       "    </tr>\n",
       "    <tr>\n",
       "      <th>3</th>\n",
       "      <td>36897929</td>\n",
       "      <td>2017-04-22 13:18:18.437</td>\n",
       "      <td>com-bonial-kaufda</td>\n",
       "      <td>64707e97-d5e1-4622-a89a-bebf8432fd33</td>\n",
       "      <td>sm-g955f</td>\n",
       "      <td>000000</td>\n",
       "    </tr>\n",
       "    <tr>\n",
       "      <th>4</th>\n",
       "      <td>36606053</td>\n",
       "      <td>2017-04-15 14:03:51.199</td>\n",
       "      <td>com-bonial-kaufda</td>\n",
       "      <td>770a391d-eda5-423b-b672-845f1e12661f</td>\n",
       "      <td>sm-j320h</td>\n",
       "      <td>000000</td>\n",
       "    </tr>\n",
       "  </tbody>\n",
       "</table>\n",
       "</div>"
      ]
     },
     "metadata": {},
     "output_type": "display_data"
    },
    {
     "name": "stdout",
     "output_type": "stream",
     "text": [
      "\n",
      "Preview of Brochure Views:\n"
     ]
    },
    {
     "data": {
      "text/plain": [
       "           id                                userId             dateCreated  \\\n",
       "0  6269194661  9491a960-206a-4a58-9177-e78cb1f05e70 2017-04-30 23:47:09.539   \n",
       "1  6269192581  9491a960-206a-4a58-9177-e78cb1f05e70 2017-04-30 23:47:00.697   \n",
       "2  6269188351  9491a960-206a-4a58-9177-e78cb1f05e70 2017-04-30 23:46:39.917   \n",
       "3  6204426632  fa623647-dfc9-49b4-bbb6-77cbacd599f4 2017-04-30 23:46:13.597   \n",
       "4  6204424112  9491a960-206a-4a58-9177-e78cb1f05e70 2017-04-30 23:46:02.197   \n",
       "\n",
       "   page_turn_count  view_duration  brochure_id  \n",
       "0               30        95172.0    672239440  \n",
       "1                2         4000.0    673861625  \n",
       "2                1        14000.0    660764240  \n",
       "3               64       168000.0    672658544  \n",
       "4                1        33000.0    660764240  "
      ],
      "text/html": [
       "<div>\n",
       "<style scoped>\n",
       "    .dataframe tbody tr th:only-of-type {\n",
       "        vertical-align: middle;\n",
       "    }\n",
       "\n",
       "    .dataframe tbody tr th {\n",
       "        vertical-align: top;\n",
       "    }\n",
       "\n",
       "    .dataframe thead th {\n",
       "        text-align: right;\n",
       "    }\n",
       "</style>\n",
       "<table border=\"1\" class=\"dataframe\">\n",
       "  <thead>\n",
       "    <tr style=\"text-align: right;\">\n",
       "      <th></th>\n",
       "      <th>id</th>\n",
       "      <th>userId</th>\n",
       "      <th>dateCreated</th>\n",
       "      <th>page_turn_count</th>\n",
       "      <th>view_duration</th>\n",
       "      <th>brochure_id</th>\n",
       "    </tr>\n",
       "  </thead>\n",
       "  <tbody>\n",
       "    <tr>\n",
       "      <th>0</th>\n",
       "      <td>6269194661</td>\n",
       "      <td>9491a960-206a-4a58-9177-e78cb1f05e70</td>\n",
       "      <td>2017-04-30 23:47:09.539</td>\n",
       "      <td>30</td>\n",
       "      <td>95172.0</td>\n",
       "      <td>672239440</td>\n",
       "    </tr>\n",
       "    <tr>\n",
       "      <th>1</th>\n",
       "      <td>6269192581</td>\n",
       "      <td>9491a960-206a-4a58-9177-e78cb1f05e70</td>\n",
       "      <td>2017-04-30 23:47:00.697</td>\n",
       "      <td>2</td>\n",
       "      <td>4000.0</td>\n",
       "      <td>673861625</td>\n",
       "    </tr>\n",
       "    <tr>\n",
       "      <th>2</th>\n",
       "      <td>6269188351</td>\n",
       "      <td>9491a960-206a-4a58-9177-e78cb1f05e70</td>\n",
       "      <td>2017-04-30 23:46:39.917</td>\n",
       "      <td>1</td>\n",
       "      <td>14000.0</td>\n",
       "      <td>660764240</td>\n",
       "    </tr>\n",
       "    <tr>\n",
       "      <th>3</th>\n",
       "      <td>6204426632</td>\n",
       "      <td>fa623647-dfc9-49b4-bbb6-77cbacd599f4</td>\n",
       "      <td>2017-04-30 23:46:13.597</td>\n",
       "      <td>64</td>\n",
       "      <td>168000.0</td>\n",
       "      <td>672658544</td>\n",
       "    </tr>\n",
       "    <tr>\n",
       "      <th>4</th>\n",
       "      <td>6204424112</td>\n",
       "      <td>9491a960-206a-4a58-9177-e78cb1f05e70</td>\n",
       "      <td>2017-04-30 23:46:02.197</td>\n",
       "      <td>1</td>\n",
       "      <td>33000.0</td>\n",
       "      <td>660764240</td>\n",
       "    </tr>\n",
       "  </tbody>\n",
       "</table>\n",
       "</div>"
      ]
     },
     "metadata": {},
     "output_type": "display_data"
    },
    {
     "name": "stdout",
     "output_type": "stream",
     "text": [
      "\n",
      "Preview of App Starts:\n"
     ]
    },
    {
     "data": {
      "text/plain": [
       "              dateCreated                                userId\n",
       "0 2017-06-30 14:14:54.793  50e72534-a4f4-40d7-96d5-ecbe4eb314e9\n",
       "1 2017-06-30 14:03:13.010  b3712849-595e-403f-84d2-4698439056b0\n",
       "2 2017-06-28 16:26:48.383  99cea50b-3ecf-4102-8290-997eaf32a6b6\n",
       "3 2017-06-27 10:23:29.943  78c06433-9ea8-4835-aff5-f64b262d0fb4\n",
       "4 2017-06-27 10:11:27.634  510c5f9e-de54-45ee-909c-c14103130e5e"
      ],
      "text/html": [
       "<div>\n",
       "<style scoped>\n",
       "    .dataframe tbody tr th:only-of-type {\n",
       "        vertical-align: middle;\n",
       "    }\n",
       "\n",
       "    .dataframe tbody tr th {\n",
       "        vertical-align: top;\n",
       "    }\n",
       "\n",
       "    .dataframe thead th {\n",
       "        text-align: right;\n",
       "    }\n",
       "</style>\n",
       "<table border=\"1\" class=\"dataframe\">\n",
       "  <thead>\n",
       "    <tr style=\"text-align: right;\">\n",
       "      <th></th>\n",
       "      <th>dateCreated</th>\n",
       "      <th>userId</th>\n",
       "    </tr>\n",
       "  </thead>\n",
       "  <tbody>\n",
       "    <tr>\n",
       "      <th>0</th>\n",
       "      <td>2017-06-30 14:14:54.793</td>\n",
       "      <td>50e72534-a4f4-40d7-96d5-ecbe4eb314e9</td>\n",
       "    </tr>\n",
       "    <tr>\n",
       "      <th>1</th>\n",
       "      <td>2017-06-30 14:03:13.010</td>\n",
       "      <td>b3712849-595e-403f-84d2-4698439056b0</td>\n",
       "    </tr>\n",
       "    <tr>\n",
       "      <th>2</th>\n",
       "      <td>2017-06-28 16:26:48.383</td>\n",
       "      <td>99cea50b-3ecf-4102-8290-997eaf32a6b6</td>\n",
       "    </tr>\n",
       "    <tr>\n",
       "      <th>3</th>\n",
       "      <td>2017-06-27 10:23:29.943</td>\n",
       "      <td>78c06433-9ea8-4835-aff5-f64b262d0fb4</td>\n",
       "    </tr>\n",
       "    <tr>\n",
       "      <th>4</th>\n",
       "      <td>2017-06-27 10:11:27.634</td>\n",
       "      <td>510c5f9e-de54-45ee-909c-c14103130e5e</td>\n",
       "    </tr>\n",
       "  </tbody>\n",
       "</table>\n",
       "</div>"
      ]
     },
     "metadata": {},
     "output_type": "display_data"
    }
   ],
   "execution_count": 7
  },
  {
   "metadata": {
    "ExecuteTime": {
     "end_time": "2024-12-17T22:35:29.073631Z",
     "start_time": "2024-12-17T22:35:29.052895Z"
    }
   },
   "cell_type": "code",
   "source": [
    "print(\"Missing Values:\")\n",
    "print(\"Missing in Installs:\\n\", installs.isna().sum())\n",
    "print(\"Missing in Brochure Views:\\n\", brochure_views.isna().sum())\n",
    "print(\"Missing in App Starts:\\n\", app_starts.isna().sum())"
   ],
   "outputs": [
    {
     "name": "stdout",
     "output_type": "stream",
     "text": [
      "Missing Values:\n",
      "Missing in Installs:\n",
      " id              0\n",
      "InstallDate     0\n",
      "productId       0\n",
      "userId          0\n",
      "model          37\n",
      "campaignId      0\n",
      "dtype: int64\n",
      "Missing in Brochure Views:\n",
      " id                    0\n",
      "userId                0\n",
      "dateCreated           0\n",
      "page_turn_count       0\n",
      "view_duration      9611\n",
      "brochure_id           0\n",
      "dtype: int64\n",
      "Missing in App Starts:\n",
      " dateCreated    0\n",
      "userId         0\n",
      "dtype: int64\n"
     ]
    }
   ],
   "execution_count": 8
  },
  {
   "metadata": {},
   "cell_type": "markdown",
   "source": [
    "### duration analysis on row data\n",
    "after viewing the data on brochure_views it was observed that the view_duration had missing values and data errors with negative duration\n"
   ]
  },
  {
   "metadata": {
    "ExecuteTime": {
     "end_time": "2024-12-17T22:35:29.195282Z",
     "start_time": "2024-12-17T22:35:29.180645Z"
    }
   },
   "cell_type": "code",
   "source": [
    "column ='view_duration'\n",
    "missing_duration = brochure_views[brochure_views[column].isna()]\n",
    "missing_count = missing_duration.shape[0]\n",
    "print(\"Number of rows with missing view_duration:\", missing_count)\n",
    "percentage_missing = (missing_count / brochure_views.shape[0]) * 100\n",
    "print(\"Percentage of missing view_duration:\", percentage_missing)\n",
    "display(missing_duration.head())\n",
    "print(f\"min duration value: {brochure_views[column].min()}\")\n",
    "# finding positive min value for replacing as view duration\n",
    "print(f\"min positive duration value: {brochure_views[column][brochure_views[column]>0].min()}\")\n"
   ],
   "outputs": [
    {
     "name": "stdout",
     "output_type": "stream",
     "text": [
      "Number of rows with missing view_duration: 9611\n",
      "Percentage of missing view_duration: 3.442174970363128\n"
     ]
    },
    {
     "data": {
      "text/plain": [
       "             id                                userId             dateCreated  \\\n",
       "97   6201454322  9d4e761d-8858-4af2-ae72-c9d40f80d219 2017-04-30 21:10:18.607   \n",
       "142  6264968691  6fe9afbc-784f-4d22-a952-d50e67261631 2017-04-30 20:27:03.789   \n",
       "157  6198746552  0ad62dc6-de94-43cf-a2d5-6abae758bb85 2017-04-30 19:02:54.391   \n",
       "162  6197986142  e691e2a3-db13-4d74-afe4-96e61f9af80c 2017-04-30 17:59:49.046   \n",
       "212  6200889782  90af2ceb-aa34-417f-8a9b-69d6a1914f4b 2017-04-30 20:51:47.284   \n",
       "\n",
       "     page_turn_count  view_duration  brochure_id  \n",
       "97                 1            NaN    671973171  \n",
       "142                1            NaN    671979651  \n",
       "157                1            NaN    672239392  \n",
       "162                1            NaN    541614364  \n",
       "212                1            NaN    671802472  "
      ],
      "text/html": [
       "<div>\n",
       "<style scoped>\n",
       "    .dataframe tbody tr th:only-of-type {\n",
       "        vertical-align: middle;\n",
       "    }\n",
       "\n",
       "    .dataframe tbody tr th {\n",
       "        vertical-align: top;\n",
       "    }\n",
       "\n",
       "    .dataframe thead th {\n",
       "        text-align: right;\n",
       "    }\n",
       "</style>\n",
       "<table border=\"1\" class=\"dataframe\">\n",
       "  <thead>\n",
       "    <tr style=\"text-align: right;\">\n",
       "      <th></th>\n",
       "      <th>id</th>\n",
       "      <th>userId</th>\n",
       "      <th>dateCreated</th>\n",
       "      <th>page_turn_count</th>\n",
       "      <th>view_duration</th>\n",
       "      <th>brochure_id</th>\n",
       "    </tr>\n",
       "  </thead>\n",
       "  <tbody>\n",
       "    <tr>\n",
       "      <th>97</th>\n",
       "      <td>6201454322</td>\n",
       "      <td>9d4e761d-8858-4af2-ae72-c9d40f80d219</td>\n",
       "      <td>2017-04-30 21:10:18.607</td>\n",
       "      <td>1</td>\n",
       "      <td>NaN</td>\n",
       "      <td>671973171</td>\n",
       "    </tr>\n",
       "    <tr>\n",
       "      <th>142</th>\n",
       "      <td>6264968691</td>\n",
       "      <td>6fe9afbc-784f-4d22-a952-d50e67261631</td>\n",
       "      <td>2017-04-30 20:27:03.789</td>\n",
       "      <td>1</td>\n",
       "      <td>NaN</td>\n",
       "      <td>671979651</td>\n",
       "    </tr>\n",
       "    <tr>\n",
       "      <th>157</th>\n",
       "      <td>6198746552</td>\n",
       "      <td>0ad62dc6-de94-43cf-a2d5-6abae758bb85</td>\n",
       "      <td>2017-04-30 19:02:54.391</td>\n",
       "      <td>1</td>\n",
       "      <td>NaN</td>\n",
       "      <td>672239392</td>\n",
       "    </tr>\n",
       "    <tr>\n",
       "      <th>162</th>\n",
       "      <td>6197986142</td>\n",
       "      <td>e691e2a3-db13-4d74-afe4-96e61f9af80c</td>\n",
       "      <td>2017-04-30 17:59:49.046</td>\n",
       "      <td>1</td>\n",
       "      <td>NaN</td>\n",
       "      <td>541614364</td>\n",
       "    </tr>\n",
       "    <tr>\n",
       "      <th>212</th>\n",
       "      <td>6200889782</td>\n",
       "      <td>90af2ceb-aa34-417f-8a9b-69d6a1914f4b</td>\n",
       "      <td>2017-04-30 20:51:47.284</td>\n",
       "      <td>1</td>\n",
       "      <td>NaN</td>\n",
       "      <td>671802472</td>\n",
       "    </tr>\n",
       "  </tbody>\n",
       "</table>\n",
       "</div>"
      ]
     },
     "metadata": {},
     "output_type": "display_data"
    },
    {
     "name": "stdout",
     "output_type": "stream",
     "text": [
      "min duration value: -18000.0\n",
      "min positive duration value: 1000.0\n"
     ]
    }
   ],
   "execution_count": 9
  },
  {
   "metadata": {
    "ExecuteTime": {
     "end_time": "2024-12-17T22:35:29.234007Z",
     "start_time": "2024-12-17T22:35:29.229686Z"
    }
   },
   "cell_type": "code",
   "source": [
    "negative_count = (brochure_views[column] < 0).sum()\n",
    "percentage_negative_duration = (negative_count / brochure_views.shape[0]) * 100\n",
    "print(\"Number of rows with negative view_duration:\", negative_count)\n",
    "print(\"Percentage of negative view_duration:\", percentage_negative_duration)"
   ],
   "outputs": [
    {
     "name": "stdout",
     "output_type": "stream",
     "text": [
      "Number of rows with negative view_duration: 5\n",
      "Percentage of negative view_duration: 0.0017907475654786848\n"
     ]
    }
   ],
   "execution_count": 10
  },
  {
   "metadata": {
    "ExecuteTime": {
     "end_time": "2024-12-17T22:55:52.122681Z",
     "start_time": "2024-12-17T22:55:48.607322Z"
    }
   },
   "cell_type": "code",
   "source": [
    "plt.figure(figsize=(4,4))\n",
    "sns.histplot(brochure_views['view_duration'], kde=True)\n",
    "plt.title(\"Box Plot of Raw View Duration\")\n",
    "plt.tight_layout()\n",
    "plt.show()"
   ],
   "outputs": [
    {
     "data": {
      "text/plain": [
       "<Figure size 400x400 with 1 Axes>"
      ],
      "image/png": "[encoded data removed]"
     },
     "metadata": {},
     "output_type": "display_data"
    }
   ],
   "execution_count": 21
  },
  {
   "metadata": {
    "ExecuteTime": {
     "end_time": "2024-12-17T22:56:02.062986Z",
     "start_time": "2024-12-17T22:55:59.138017Z"
    }
   },
   "cell_type": "code",
   "source": [
    "# Checking page_turn_count distribution\n",
    "plt.figure(figsize=(4,4))\n",
    "sns.histplot(brochure_views['page_turn_count'], kde=True)\n",
    "plt.title(\"Distribution of Page Turn Count (April-June)\")\n",
    "plt.xlabel(\"Page Turn Count\")\n",
    "plt.ylabel(\"Frequency\")\n",
    "plt.tight_layout()\n",
    "plt.show()\n"
   ],
   "outputs": [
    {
     "data": {
      "text/plain": [
       "<Figure size 400x400 with 1 Axes>"
      ],
      "image/png": "[encoded data removed]"
     },
     "metadata": {},
     "output_type": "display_data"
    }
   ],
   "execution_count": 22
  },
  {
   "metadata": {
    "ExecuteTime": {
     "end_time": "2024-12-17T22:35:29.845914200Z",
     "start_time": "2024-12-17T20:42:54.746950Z"
    }
   },
   "cell_type": "code",
   "source": [
    "# view Duplicate values\n",
    "print(\"Duplicates in installs:\", installs.duplicated().sum())\n",
    "print(\"Duplicates in brochure_views:\", brochure_views.duplicated().sum())\n",
    "print(\"Duplicates in app_starts:\", app_starts.duplicated().sum())"
   ],
   "outputs": [
    {
     "name": "stdout",
     "output_type": "stream",
     "text": [
      "Duplicates in installs: 0\n",
      "Duplicates in brochure_views: 0\n",
      "Duplicates in app_starts: 52\n"
     ]
    }
   ],
   "execution_count": 11
  },
  {
   "metadata": {},
   "cell_type": "markdown",
   "source": "### app_starts analysis"
  },
  {
   "metadata": {
    "ExecuteTime": {
     "end_time": "2024-12-17T22:35:29.852920200Z",
     "start_time": "2024-12-17T20:42:54.918859Z"
    }
   },
   "cell_type": "code",
   "source": [
    "# have a sample of duplicated values\n",
    "duplicated_rows = app_starts[app_starts.duplicated(keep=False)]\n",
    "\n",
    "print(f\"Number of duplicated rows in app_starts: {duplicated_rows.shape[0]}\")\n",
    "display(duplicated_rows.head())"
   ],
   "outputs": [
    {
     "name": "stdout",
     "output_type": "stream",
     "text": [
      "Number of duplicated rows in app_starts: 103\n"
     ]
    },
    {
     "data": {
      "text/plain": [
       "                  dateCreated                                userId\n",
       "47992 2017-05-26 12:01:41.354  df92b9d7-2a8b-41c6-85a7-1c1dd57d6bea\n",
       "47993 2017-05-26 12:01:41.354  df92b9d7-2a8b-41c6-85a7-1c1dd57d6bea\n",
       "71954 2017-04-08 01:58:49.867  8d9b31cd-879f-401d-8595-0ccfd52a01b4\n",
       "75595 2017-04-06 01:24:08.140  dbe3dc28-ce77-423e-8922-f9ff8494c702\n",
       "75596 2017-04-06 01:24:08.140  dbe3dc28-ce77-423e-8922-f9ff8494c702"
      ],
      "text/html": [
       "<div>\n",
       "<style scoped>\n",
       "    .dataframe tbody tr th:only-of-type {\n",
       "        vertical-align: middle;\n",
       "    }\n",
       "\n",
       "    .dataframe tbody tr th {\n",
       "        vertical-align: top;\n",
       "    }\n",
       "\n",
       "    .dataframe thead th {\n",
       "        text-align: right;\n",
       "    }\n",
       "</style>\n",
       "<table border=\"1\" class=\"dataframe\">\n",
       "  <thead>\n",
       "    <tr style=\"text-align: right;\">\n",
       "      <th></th>\n",
       "      <th>dateCreated</th>\n",
       "      <th>userId</th>\n",
       "    </tr>\n",
       "  </thead>\n",
       "  <tbody>\n",
       "    <tr>\n",
       "      <th>47992</th>\n",
       "      <td>2017-05-26 12:01:41.354</td>\n",
       "      <td>df92b9d7-2a8b-41c6-85a7-1c1dd57d6bea</td>\n",
       "    </tr>\n",
       "    <tr>\n",
       "      <th>47993</th>\n",
       "      <td>2017-05-26 12:01:41.354</td>\n",
       "      <td>df92b9d7-2a8b-41c6-85a7-1c1dd57d6bea</td>\n",
       "    </tr>\n",
       "    <tr>\n",
       "      <th>71954</th>\n",
       "      <td>2017-04-08 01:58:49.867</td>\n",
       "      <td>8d9b31cd-879f-401d-8595-0ccfd52a01b4</td>\n",
       "    </tr>\n",
       "    <tr>\n",
       "      <th>75595</th>\n",
       "      <td>2017-04-06 01:24:08.140</td>\n",
       "      <td>dbe3dc28-ce77-423e-8922-f9ff8494c702</td>\n",
       "    </tr>\n",
       "    <tr>\n",
       "      <th>75596</th>\n",
       "      <td>2017-04-06 01:24:08.140</td>\n",
       "      <td>dbe3dc28-ce77-423e-8922-f9ff8494c702</td>\n",
       "    </tr>\n",
       "  </tbody>\n",
       "</table>\n",
       "</div>"
      ]
     },
     "metadata": {},
     "output_type": "display_data"
    }
   ],
   "execution_count": 12
  },
  {
   "metadata": {},
   "cell_type": "markdown",
   "source": "### check for inconstancy app_start\n"
  },
  {
   "metadata": {
    "ExecuteTime": {
     "end_time": "2024-12-17T22:35:29.855916400Z",
     "start_time": "2024-12-17T20:44:37.317076Z"
    }
   },
   "cell_type": "code",
   "source": [
    "\n",
    "app_starts.drop_duplicates(inplace=True)\n",
    "# get the earliest installation\n",
    "user_earliest_install = installs.groupby('userId', as_index=False)['InstallDate'].min()\n",
    "user_earliest_install.rename(columns={'InstallDate': 'earliest_install_date'}, inplace=True)\n",
    "\n",
    "app_starts_install = app_starts.merge(user_earliest_install, on='userId', how='left')\n",
    "app_starts_filtered = app_starts_install[app_starts_install['dateCreated'] >= app_starts_install['earliest_install_date']]\n",
    "print(\"Original app_starts rows:\", app_starts.shape[0])\n",
    "print(\"Filtered app_starts rows:\", app_starts_filtered.shape[0])\n",
    "consistent_data = (app_starts_filtered.shape[0] / app_starts.shape[0]) * 100\n",
    "print(\"Percentage of inconsistent app_starts:\", consistent_data)\n",
    "display(app_starts_filtered.head())"
   ],
   "outputs": [
    {
     "name": "stdout",
     "output_type": "stream",
     "text": [
      "Original app_starts rows: 144052\n",
      "Filtered app_starts rows: 139830\n",
      "Percentage of inconsistent app_starts: 97.06911393108044\n"
     ]
    },
    {
     "data": {
      "text/plain": [
       "              dateCreated                                userId  \\\n",
       "0 2017-06-30 14:14:54.793  50e72534-a4f4-40d7-96d5-ecbe4eb314e9   \n",
       "1 2017-06-30 14:03:13.010  b3712849-595e-403f-84d2-4698439056b0   \n",
       "2 2017-06-28 16:26:48.383  99cea50b-3ecf-4102-8290-997eaf32a6b6   \n",
       "3 2017-06-27 10:23:29.943  78c06433-9ea8-4835-aff5-f64b262d0fb4   \n",
       "4 2017-06-27 10:11:27.634  510c5f9e-de54-45ee-909c-c14103130e5e   \n",
       "\n",
       "    earliest_install_date  \n",
       "0 2017-04-21 13:16:18.599  \n",
       "1 2017-04-28 15:28:20.546  \n",
       "2 2017-05-09 20:45:19.723  \n",
       "3 2017-05-15 13:29:37.377  \n",
       "4 2017-05-07 08:03:04.573  "
      ],
      "text/html": [
       "<div>\n",
       "<style scoped>\n",
       "    .dataframe tbody tr th:only-of-type {\n",
       "        vertical-align: middle;\n",
       "    }\n",
       "\n",
       "    .dataframe tbody tr th {\n",
       "        vertical-align: top;\n",
       "    }\n",
       "\n",
       "    .dataframe thead th {\n",
       "        text-align: right;\n",
       "    }\n",
       "</style>\n",
       "<table border=\"1\" class=\"dataframe\">\n",
       "  <thead>\n",
       "    <tr style=\"text-align: right;\">\n",
       "      <th></th>\n",
       "      <th>dateCreated</th>\n",
       "      <th>userId</th>\n",
       "      <th>earliest_install_date</th>\n",
       "    </tr>\n",
       "  </thead>\n",
       "  <tbody>\n",
       "    <tr>\n",
       "      <th>0</th>\n",
       "      <td>2017-06-30 14:14:54.793</td>\n",
       "      <td>50e72534-a4f4-40d7-96d5-ecbe4eb314e9</td>\n",
       "      <td>2017-04-21 13:16:18.599</td>\n",
       "    </tr>\n",
       "    <tr>\n",
       "      <th>1</th>\n",
       "      <td>2017-06-30 14:03:13.010</td>\n",
       "      <td>b3712849-595e-403f-84d2-4698439056b0</td>\n",
       "      <td>2017-04-28 15:28:20.546</td>\n",
       "    </tr>\n",
       "    <tr>\n",
       "      <th>2</th>\n",
       "      <td>2017-06-28 16:26:48.383</td>\n",
       "      <td>99cea50b-3ecf-4102-8290-997eaf32a6b6</td>\n",
       "      <td>2017-05-09 20:45:19.723</td>\n",
       "    </tr>\n",
       "    <tr>\n",
       "      <th>3</th>\n",
       "      <td>2017-06-27 10:23:29.943</td>\n",
       "      <td>78c06433-9ea8-4835-aff5-f64b262d0fb4</td>\n",
       "      <td>2017-05-15 13:29:37.377</td>\n",
       "    </tr>\n",
       "    <tr>\n",
       "      <th>4</th>\n",
       "      <td>2017-06-27 10:11:27.634</td>\n",
       "      <td>510c5f9e-de54-45ee-909c-c14103130e5e</td>\n",
       "      <td>2017-05-07 08:03:04.573</td>\n",
       "    </tr>\n",
       "  </tbody>\n",
       "</table>\n",
       "</div>"
      ]
     },
     "metadata": {},
     "output_type": "display_data"
    }
   ],
   "execution_count": 16
  },
  {
   "metadata": {},
   "cell_type": "markdown",
   "source": "### analyse install data"
  },
  {
   "metadata": {
    "ExecuteTime": {
     "end_time": "2024-12-17T22:35:29.856915400Z",
     "start_time": "2024-12-17T21:27:53.565079Z"
    }
   },
   "cell_type": "code",
   "source": [
    "installs_unique = installs.drop_duplicates(subset='userId', keep='first')\n",
    "print(\"Number of  installs:\", installs.shape[0])\n",
    "print(\"Number of unique installs:\", installs_unique.shape[0])"
   ],
   "outputs": [
    {
     "name": "stdout",
     "output_type": "stream",
     "text": [
      "Number of  installs: 20000\n",
      "Number of unique installs: 20000\n"
     ]
    }
   ],
   "execution_count": 19
  },
  {
   "metadata": {},
   "cell_type": "markdown",
   "source": "### static summary\n"
  },
  {
   "metadata": {},
   "cell_type": "code",
   "outputs": [],
   "execution_count": null,
   "source": [
    "print(\"\\nSummary Statistics for Installs:\")\n",
    "display(installs.describe())\n",
    "\n",
    "print(\"\\nSummary Statistics for Brochure Views (April-June):\")\n",
    "display(brochure_views.describe())\n",
    "\n",
    "print(\"\\nSummary Statistics for App Starts (April-June):\")\n",
    "display(app_starts.describe())\n",
    "\n",
    "# Summary statistics for categorical columns\n",
    "print(\"\\nCategorical Data Summary - Installs:\")\n",
    "display(installs.describe(include=['object']))\n",
    "\n",
    "print(\"\\nCategorical Data Summary - Brochure Views (April-June):\")\n",
    "display(brochure_views.describe(include=['object']))\n",
    "\n",
    "print(\"\\nCategorical Data Summary - App Starts (April-June):\")\n",
    "display(app_starts.describe(include=['object']))"
   ]
  }
 ],
 "metadata": {
  "kernelspec": {
   "display_name": "Python 3 (ipykernel)",
   "language": "python",
   "name": "python3"
  },
  "language_info": {
   "codemirror_mode": {
    "name": "ipython",
    "version": 3
   },
   "file_extension": ".py",
   "mimetype": "text/x-python",
   "name": "python",
   "nbconvert_exporter": "python",
   "pygments_lexer": "ipython3",
   "version": "3.13.1"
  }
 },
 "nbformat": 4,
 "nbformat_minor": 4
}
