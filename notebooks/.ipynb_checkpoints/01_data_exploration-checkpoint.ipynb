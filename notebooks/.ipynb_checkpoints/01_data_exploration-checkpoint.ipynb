{
 "cells": [
  {
   "metadata": {},
   "cell_type": "raw",
   "source": "# notbook setup"
  },
  {
   "metadata": {
    "ExecuteTime": {
     "end_time": "2024-12-17T12:51:49.858287Z",
     "start_time": "2024-12-17T12:51:47.044622Z"
    }
   },
   "cell_type": "code",
   "source": [
    "import pandas as pd\n",
    "import numpy as np\n",
    "import os\n",
    "import matplotlib.pyplot as plt\n",
    "import seaborn as sns\n"
   ],
   "outputs": [
    {
     "ename": "AttributeError",
     "evalue": "module 'matplotlib.cm' has no attribute 'register_cmap'",
     "output_type": "error",
     "traceback": [
      "\u001B[1;31m---------------------------------------------------------------------------\u001B[0m",
      "\u001B[1;31mAttributeError\u001B[0m                            Traceback (most recent call last)",
      "Cell \u001B[1;32mIn[4], line 5\u001B[0m\n\u001B[0;32m      3\u001B[0m \u001B[38;5;28;01mimport\u001B[39;00m \u001B[38;5;21;01mos\u001B[39;00m\n\u001B[0;32m      4\u001B[0m \u001B[38;5;28;01mimport\u001B[39;00m \u001B[38;5;21;01mmatplotlib\u001B[39;00m\u001B[38;5;21;01m.\u001B[39;00m\u001B[38;5;21;01mpyplot\u001B[39;00m \u001B[38;5;28;01mas\u001B[39;00m \u001B[38;5;21;01mplt\u001B[39;00m\n\u001B[1;32m----> 5\u001B[0m \u001B[38;5;28;01mimport\u001B[39;00m \u001B[38;5;21;01mseaborn\u001B[39;00m \u001B[38;5;28;01mas\u001B[39;00m \u001B[38;5;21;01msns\u001B[39;00m\n",
      "File \u001B[1;32m~\\Desktop\\Bonial\\Lib\\site-packages\\seaborn\\__init__.py:9\u001B[0m\n\u001B[0;32m      7\u001B[0m \u001B[38;5;28;01mfrom\u001B[39;00m \u001B[38;5;21;01m.\u001B[39;00m\u001B[38;5;21;01mcategorical\u001B[39;00m \u001B[38;5;28;01mimport\u001B[39;00m \u001B[38;5;241m*\u001B[39m  \u001B[38;5;66;03m# noqa: F401,F403\u001B[39;00m\n\u001B[0;32m      8\u001B[0m \u001B[38;5;28;01mfrom\u001B[39;00m \u001B[38;5;21;01m.\u001B[39;00m\u001B[38;5;21;01mdistributions\u001B[39;00m \u001B[38;5;28;01mimport\u001B[39;00m \u001B[38;5;241m*\u001B[39m  \u001B[38;5;66;03m# noqa: F401,F403\u001B[39;00m\n\u001B[1;32m----> 9\u001B[0m \u001B[38;5;28;01mfrom\u001B[39;00m \u001B[38;5;21;01m.\u001B[39;00m\u001B[38;5;21;01mmatrix\u001B[39;00m \u001B[38;5;28;01mimport\u001B[39;00m \u001B[38;5;241m*\u001B[39m  \u001B[38;5;66;03m# noqa: F401,F403\u001B[39;00m\n\u001B[0;32m     10\u001B[0m \u001B[38;5;28;01mfrom\u001B[39;00m \u001B[38;5;21;01m.\u001B[39;00m\u001B[38;5;21;01mmiscplot\u001B[39;00m \u001B[38;5;28;01mimport\u001B[39;00m \u001B[38;5;241m*\u001B[39m  \u001B[38;5;66;03m# noqa: F401,F403\u001B[39;00m\n\u001B[0;32m     11\u001B[0m \u001B[38;5;28;01mfrom\u001B[39;00m \u001B[38;5;21;01m.\u001B[39;00m\u001B[38;5;21;01maxisgrid\u001B[39;00m \u001B[38;5;28;01mimport\u001B[39;00m \u001B[38;5;241m*\u001B[39m  \u001B[38;5;66;03m# noqa: F401,F403\u001B[39;00m\n",
      "File \u001B[1;32m~\\Desktop\\Bonial\\Lib\\site-packages\\seaborn\\matrix.py:12\u001B[0m\n\u001B[0;32m      9\u001B[0m \u001B[38;5;28;01mimport\u001B[39;00m \u001B[38;5;21;01mpandas\u001B[39;00m \u001B[38;5;28;01mas\u001B[39;00m \u001B[38;5;21;01mpd\u001B[39;00m\n\u001B[0;32m     10\u001B[0m \u001B[38;5;28;01mfrom\u001B[39;00m \u001B[38;5;21;01mscipy\u001B[39;00m\u001B[38;5;21;01m.\u001B[39;00m\u001B[38;5;21;01mcluster\u001B[39;00m \u001B[38;5;28;01mimport\u001B[39;00m hierarchy\n\u001B[1;32m---> 12\u001B[0m \u001B[38;5;28;01mfrom\u001B[39;00m \u001B[38;5;21;01m.\u001B[39;00m \u001B[38;5;28;01mimport\u001B[39;00m cm\n\u001B[0;32m     13\u001B[0m \u001B[38;5;28;01mfrom\u001B[39;00m \u001B[38;5;21;01m.\u001B[39;00m\u001B[38;5;21;01maxisgrid\u001B[39;00m \u001B[38;5;28;01mimport\u001B[39;00m Grid\n\u001B[0;32m     14\u001B[0m \u001B[38;5;28;01mfrom\u001B[39;00m \u001B[38;5;21;01m.\u001B[39;00m\u001B[38;5;21;01mutils\u001B[39;00m \u001B[38;5;28;01mimport\u001B[39;00m (\n\u001B[0;32m     15\u001B[0m     despine,\n\u001B[0;32m     16\u001B[0m     axis_ticklabels_overlap,\n\u001B[1;32m   (...)\u001B[0m\n\u001B[0;32m     19\u001B[0m     _draw_figure,\n\u001B[0;32m     20\u001B[0m )\n",
      "File \u001B[1;32m~\\Desktop\\Bonial\\Lib\\site-packages\\seaborn\\cm.py:1582\u001B[0m\n\u001B[0;32m   1579\u001B[0m     _cmap_r \u001B[38;5;241m=\u001B[39m colors\u001B[38;5;241m.\u001B[39mListedColormap(_lut[::\u001B[38;5;241m-\u001B[39m\u001B[38;5;241m1\u001B[39m], _name \u001B[38;5;241m+\u001B[39m \u001B[38;5;124m\"\u001B[39m\u001B[38;5;124m_r\u001B[39m\u001B[38;5;124m\"\u001B[39m)  \n\u001B[0;32m   1580\u001B[0m     \u001B[38;5;28mlocals\u001B[39m()[_name \u001B[38;5;241m+\u001B[39m \u001B[38;5;124m\"\u001B[39m\u001B[38;5;124m_r\u001B[39m\u001B[38;5;124m\"\u001B[39m] \u001B[38;5;241m=\u001B[39m _cmap_r\n\u001B[1;32m-> 1582\u001B[0m     mpl_cm\u001B[38;5;241m.\u001B[39mregister_cmap(_name, _cmap)\n\u001B[0;32m   1583\u001B[0m     mpl_cm\u001B[38;5;241m.\u001B[39mregister_cmap(_name \u001B[38;5;241m+\u001B[39m \u001B[38;5;124m\"\u001B[39m\u001B[38;5;124m_r\u001B[39m\u001B[38;5;124m\"\u001B[39m, _cmap_r)\n\u001B[0;32m   1585\u001B[0m \u001B[38;5;28;01mdel\u001B[39;00m colors, mpl_cm\n",
      "\u001B[1;31mAttributeError\u001B[0m: module 'matplotlib.cm' has no attribute 'register_cmap'"
     ]
    }
   ],
   "execution_count": 4
  },
  {
   "metadata": {},
   "cell_type": "code",
   "outputs": [],
   "execution_count": null,
   "source": "DATA_PATH = \"../data/dataset\""
  },
  {
   "metadata": {},
   "cell_type": "code",
   "outputs": [],
   "execution_count": null,
   "source": [
    "installs = pd.read_csv(os.path.join(DATA_PATH, \"installs.txt\"), sep=\"\\t\")\n",
    "brochure_views = pd.read_csv(os.path.join(DATA_PATH, \"brochure views.txt\"), sep=\"\\t\")\n",
    "brochure_views_july = pd.read_csv(os.path.join(DATA_PATH, \"brochure views july.txt\"), sep=\"\\t\")\n",
    "app_starts = pd.read_csv(os.path.join(DATA_PATH, \"app starts.txt\"), sep=\"\\t\")\n",
    "app_starts_july = pd.read_csv(os.path.join(DATA_PATH, \"app starts july.txt\"), sep=\"\\t\")"
   ]
  },
  {
   "metadata": {},
   "cell_type": "code",
   "outputs": [],
   "execution_count": null,
   "source": ""
  }
 ],
 "metadata": {
  "kernelspec": {
   "display_name": "Python 3",
   "language": "python",
   "name": "python3"
  },
  "language_info": {
   "codemirror_mode": {
    "name": "ipython",
    "version": 2
   },
   "file_extension": ".py",
   "mimetype": "text/x-python",
   "name": "python",
   "nbconvert_exporter": "python",
   "pygments_lexer": "ipython2",
   "version": "2.7.6"
  }
 },
 "nbformat": 4,
 "nbformat_minor": 0
}
