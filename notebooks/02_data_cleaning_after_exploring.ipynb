{
 "cells": [
  {
   "metadata": {},
   "cell_type": "markdown",
   "source": [
    "# simple conclusions after first data explorations\n",
    "1. brochure_views:\n",
    "    - missing duration values\n",
    "    - negative values\n",
    "    - data duration, page_turn_count,  not normalized\n",
    "2. app_starts:\n",
    "    - duplicated values\n",
    "    - inconsistent values with installs data"
   ],
   "id": "727a4695fb054d9d"
  },
  {
   "metadata": {},
   "cell_type": "code",
   "source": [
    "import pandas as pd\n",
    "import numpy as np\n",
    "import os\n",
    "import matplotlib.pyplot as plt\n",
    "import seaborn as sns\n",
    "\n",
    "BASE_DIR = os.path.abspath(\"..\")\n",
    "RAW_DATA_PATH = os.path.join(BASE_DIR, \"dataset\")"
   ],
   "id": "3551c8408536aa66",
   "outputs": [],
   "execution_count": null
  },
  {
   "metadata": {},
   "cell_type": "code",
   "source": [
    "installs = pd.read_csv(os.path.join(RAW_DATA_PATH, \"installs.txt\"), sep=\"\\t\")\n",
    "brochure_views = pd.read_csv(os.path.join(RAW_DATA_PATH, \"brochure views.txt\"), sep=\"\\t\")\n",
    "brochure_views_july = pd.read_csv(os.path.join(RAW_DATA_PATH, \"brochure views july.txt\"), sep=\"\\t\")\n",
    "app_starts = pd.read_csv(os.path.join(RAW_DATA_PATH, \"app starts.txt\"), sep=\"\\t\")\n",
    "app_starts_july = pd.read_csv(os.path.join(RAW_DATA_PATH, \"app starts july.txt\"), sep=\"\\t\")"
   ],
   "id": "1625b14f8f37bc80",
   "outputs": [],
   "execution_count": null
  },
  {
   "metadata": {},
   "cell_type": "code",
   "source": "",
   "id": "d4d9bc771c282a7",
   "outputs": [],
   "execution_count": null
  },
  {
   "metadata": {},
   "cell_type": "code",
   "source": [
    "installs['InstallDate'] = pd.to_datetime(installs['InstallDate'], errors='coerce')\n",
    "brochure_views['dateCreated'] = pd.to_datetime(brochure_views['dateCreated'], errors='coerce')\n",
    "brochure_views_july['dateCreated'] = pd.to_datetime(brochure_views_july['dateCreated'], errors='coerce')\n",
    "app_starts['dateCreated'] = pd.to_datetime(app_starts['dateCreated'], errors='coerce')\n",
    "app_starts_july['dateCreated'] = pd.to_datetime(app_starts_july['dateCreated'], errors='coerce')"
   ],
   "id": "aa5eeeb3d45587cb",
   "outputs": [],
   "execution_count": null
  },
  {
   "metadata": {},
   "cell_type": "markdown",
   "source": "# replacing missing and negative values with min nun negative value and normalization",
   "id": "b7a5ad4f6c4a8d2b"
  },
  {
   "metadata": {},
   "cell_type": "code",
   "source": [
    "\n",
    "min_value = brochure_views['view_duration'][brochure_views['view_duration']>0].min()\n",
    "brochure_views[\"view_duration\"] = np.where(\n",
    "    (brochure_views[\"view_duration\"] < 0) | (brochure_views[\"view_duration\"].isnull()),\n",
    "    1000,\n",
    "    brochure_views[\"view_duration\"]\n",
    ")\n",
    "brochure_views_july[\"view_duration\"] = np.where(\n",
    "    (brochure_views_july[\"view_duration\"] < 0) | (brochure_views_july[\"view_duration\"].isnull()),\n",
    "    1000,\n",
    "    brochure_views_july[\"view_duration\"]\n",
    ")\n",
    "normalize_col = ['view_duration', 'page_turn_count']\n",
    "for col in normalize_col:\n",
    "    brochure_views[f'{col}_log'] = np.log1p(brochure_views[col])\n",
    "    brochure_views_july[f'{col}_log'] = np.log1p(brochure_views_july[col])"
   ],
   "id": "1b4289e346dd39d1",
   "outputs": [],
   "execution_count": null
  },
  {
   "metadata": {},
   "cell_type": "markdown",
   "source": "# remove duplications and inconsistent data",
   "id": "8725854b4654500f"
  },
  {
   "metadata": {},
   "cell_type": "code",
   "source": [
    "app_starts.drop_duplicates(inplace=True)\n",
    "app_starts = app_starts.merge(installs[['userId', 'InstallDate']], on='userId', how='left')\n",
    "app_starts['dateCreated'] = app_starts[['dateCreated', 'InstallDate']].max(axis=1)\n",
    "app_starts.drop(columns=['InstallDate'], inplace=True)\n",
    "app_starts.head()"
   ],
   "id": "c7daadb10573abd0",
   "outputs": [],
   "execution_count": null
  },
  {
   "metadata": {},
   "cell_type": "code",
   "source": [
    "installs.head()\n",
    "app_starts_july.head()\n",
    "app_starts_july.drop(columns=['InstallDate_x'], inplace=True)\n",
    "app_starts_july.drop(columns=['InstallDate_y'], inplace=True)"
   ],
   "id": "76fbc628563e4cd7",
   "outputs": [],
   "execution_count": null
  },
  {
   "metadata": {},
   "cell_type": "code",
   "source": [
    "app_starts_july.drop_duplicates(inplace=True)\n",
    "app_starts_july = app_starts_july.merge(installs[['userId', 'InstallDate']], on='userId', how='left')\n",
    "app_starts_july['dateCreated'] = app_starts_july[['dateCreated', 'InstallDate']].max(axis=1)\n",
    "app_starts_july.drop(columns=['InstallDate'], inplace=True)"
   ],
   "id": "661b90fc643bb622",
   "outputs": [],
   "execution_count": null
  },
  {
   "metadata": {},
   "cell_type": "markdown",
   "source": "# visualization after cleaning",
   "id": "8d4edc80648cd429"
  },
  {
   "metadata": {},
   "cell_type": "code",
   "source": [
    "# impact of log transfer\n",
    "brochure_views[['view_duration_log', 'page_turn_count_log']].hist(figsize=(10, 5))"
   ],
   "id": "3293a1ce013a2c98",
   "outputs": [],
   "execution_count": null
  },
  {
   "metadata": {},
   "cell_type": "code",
   "source": [
    "print(app_starts[app_starts['dateCreated'].isnull()].shape)\n",
    "print(app_starts_july[app_starts_july['dateCreated'].isnull()].shape)"
   ],
   "id": "122f7d2d88dfa090",
   "outputs": [],
   "execution_count": null
  },
  {
   "metadata": {},
   "cell_type": "code",
   "source": [
    "print(\"\\nBrochure Views Describe:\\n\")\n",
    "display (brochure_views.describe())"
   ],
   "id": "aa2e53356260b499",
   "outputs": [],
   "execution_count": null
  },
  {
   "metadata": {},
   "cell_type": "code",
   "source": [
    "from src.genral import save_dataframes_to_pickle\n",
    "dataframes = [installs, brochure_views, brochure_views_july, app_starts, app_starts_july]\n",
    "file_names = ['installs.pkl', 'brochure_views.pkl', 'brochure_views_july.pkl', 'app_starts.pkl', 'app_starts_july.pkl']\n",
    "SAVE_CLEAN_DATA_PATH = os.path.join(BASE_DIR, \"data\", \"clean_data\")\n",
    "\n",
    "save_dataframes_to_pickle(dataframes, file_names, SAVE_CLEAN_DATA_PATH)\n"
   ],
   "id": "c0c2b6b0d4f028dd",
   "outputs": [],
   "execution_count": null
  },
  {
   "metadata": {},
   "cell_type": "markdown",
   "source": "# Time-sires analysis",
   "id": "5b99aabc65b0075e"
  },
  {
   "metadata": {},
   "cell_type": "code",
   "source": [
    "earliest_date = brochure_views['dateCreated'].min()\n",
    "latest_date = brochure_views['dateCreated'].max()\n",
    "\n",
    "print(\"Earliest brochure view date:\", earliest_date)\n",
    "print(\"Latest brochure view date:\", latest_date)"
   ],
   "id": "44040fe7ce597429",
   "outputs": [],
   "execution_count": null
  },
  {
   "metadata": {},
   "cell_type": "markdown",
   "source": "",
   "id": "f35c52eba19a97a"
  },
  {
   "metadata": {},
   "cell_type": "code",
   "source": [
    "user_date_range = brochure_views.groupby(['userId','brochure_id']).agg(\n",
    "    earliest_view=('dateCreated', 'min'),\n",
    "   latest_view=('dateCreated', 'max'),\n",
    "    total_duration=('view_duration_log', 'sum'),\n",
    "    avg_duration=('view_duration_log', 'mean'),\n",
    "    total_pages=('page_turn_count_log', 'sum')\n",
    ").reset_index()\n",
    "user_date_range['view_duration_days'] =np.log1p((user_date_range['latest_view']-user_date_range['earliest_view']).dt.days)\n",
    "\n",
    "display(user_date_range.head())\n",
    "\n",
    "print(\"Number of users with view data:\", user_date_range.shape[0])"
   ],
   "id": "96af3ad40acedda5",
   "outputs": [],
   "execution_count": null
  },
  {
   "metadata": {},
   "cell_type": "code",
   "source": [
    "grouped_by_day = brochure_views.groupby(['userId', 'brochure_id', 'dateCreated']).agg(\n",
    "    total_views=('view_duration_log', 'count'),\n",
    "    total_duration=('view_duration_log', 'sum'),\n",
    "    average_duration=('view_duration_log', 'mean')\n",
    ").reset_index()\n",
    "display(grouped_by_day.head())\n",
    "\n",
    "print(\"Number of users with view data:\", grouped_by_day.shape[0])\n",
    "print(grouped_by_day['average_duration'].unique().shape[0])\n"
   ],
   "id": "2cacf1bd64cf732f",
   "outputs": [],
   "execution_count": null
  },
  {
   "metadata": {},
   "cell_type": "code",
   "source": [
    "plt.figure(figsize=(10,4))\n",
    "sns.histplot(user_date_range['view_duration_days'], kde=True, bins=30)\n",
    "plt.title(\"Distribution of Users view_duration_day \")\n",
    "plt.xlabel(\"Date\")\n",
    "plt.ylabel(\"Number of Users\")\n",
    "plt.xticks(rotation=45)\n",
    "plt.tight_layout()\n",
    "plt.show()"
   ],
   "id": "97b996fdfba16579",
   "outputs": [],
   "execution_count": null
  },
  {
   "metadata": {},
   "cell_type": "code",
   "source": [
    "plt.figure(figsize=(10,4))\n",
    "sns.histplot(user_date_range['earliest_view'], kde=True, bins=30)\n",
    "plt.title(\"Distribution of Users' Earliest Brochure View Dates\")\n",
    "plt.xlabel(\"Date\")\n",
    "plt.ylabel(\"Number of Users\")\n",
    "plt.xticks(rotation=45)\n",
    "plt.tight_layout()\n",
    "plt.show()"
   ],
   "id": "2c5b65d39f10289a",
   "outputs": [],
   "execution_count": null
  },
  {
   "metadata": {},
   "cell_type": "code",
   "source": [
    "user_date_range['latest_view'] = user_date_range['latest_view'].dt.date\n",
    "\n",
    "plt.figure(figsize=(10,4))\n",
    "sns.histplot(user_date_range['latest_view'], kde=True, bins=30, color='orange')\n",
    "plt.title(\"Distribution of Users' Latest Brochure View Dates\")\n",
    "plt.xlabel(\"Date\")\n",
    "plt.ylabel(\"Number of Users\")\n",
    "plt.xticks(rotation=45)\n",
    "plt.tight_layout()\n",
    "plt.show()"
   ],
   "id": "5b503f61240a2475",
   "outputs": [],
   "execution_count": null
  }
 ],
 "metadata": {
  "kernelspec": {
   "display_name": "Python 3",
   "language": "python",
   "name": "python3"
  },
  "language_info": {
   "codemirror_mode": {
    "name": "ipython",
    "version": 2
   },
   "file_extension": ".py",
   "mimetype": "text/x-python",
   "name": "python",
   "nbconvert_exporter": "python",
   "pygments_lexer": "ipython2",
   "version": "2.7.6"
  }
 },
 "nbformat": 4,
 "nbformat_minor": 5
}
