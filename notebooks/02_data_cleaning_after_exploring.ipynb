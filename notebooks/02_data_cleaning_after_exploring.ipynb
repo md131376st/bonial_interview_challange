{
 "cells": [
  {
   "metadata": {},
   "cell_type": "markdown",
   "source": [
    "# simple conclusions after first data explorations\n",
    "1. brochure_views:\n",
    "    - missing duration values\n",
    "    - negative values\n",
    "    - data duration, page_turn_count,  not normalized\n",
    "2. app_starts:\n",
    "    - duplicated values\n",
    "    - inconsistent values with installs data"
   ],
   "id": "727a4695fb054d9d"
  },
  {
   "metadata": {
    "ExecuteTime": {
     "end_time": "2024-12-17T23:48:53.344822Z",
     "start_time": "2024-12-17T23:48:52.824757Z"
    }
   },
   "cell_type": "code",
   "source": [
    "import pandas as pd\n",
    "import numpy as np\n",
    "import os\n",
    "import matplotlib.pyplot as plt\n",
    "import seaborn as sns\n",
    "\n",
    "BASE_DIR = os.path.abspath(\"..\")\n",
    "RAW_DATA_PATH = os.path.join(BASE_DIR, \"dataset\")"
   ],
   "id": "3551c8408536aa66",
   "outputs": [],
   "execution_count": 27
  },
  {
   "metadata": {
    "ExecuteTime": {
     "end_time": "2024-12-17T23:15:16.087994Z",
     "start_time": "2024-12-17T23:15:15.588384Z"
    }
   },
   "cell_type": "code",
   "source": [
    "installs = pd.read_csv(os.path.join(RAW_DATA_PATH, \"installs.txt\"), sep=\"\\t\")\n",
    "brochure_views = pd.read_csv(os.path.join(RAW_DATA_PATH, \"brochure views.txt\"), sep=\"\\t\")\n",
    "brochure_views_july = pd.read_csv(os.path.join(RAW_DATA_PATH, \"brochure views july.txt\"), sep=\"\\t\")\n",
    "app_starts = pd.read_csv(os.path.join(RAW_DATA_PATH, \"app starts.txt\"), sep=\"\\t\")\n",
    "app_starts_july = pd.read_csv(os.path.join(RAW_DATA_PATH, \"app starts july.txt\"), sep=\"\\t\")"
   ],
   "id": "1625b14f8f37bc80",
   "outputs": [],
   "execution_count": 2
  },
  {
   "metadata": {},
   "cell_type": "code",
   "outputs": [],
   "execution_count": null,
   "source": "",
   "id": "d4d9bc771c282a7"
  },
  {
   "metadata": {
    "ExecuteTime": {
     "end_time": "2024-12-17T23:15:16.472306Z",
     "start_time": "2024-12-17T23:15:16.127137Z"
    }
   },
   "cell_type": "code",
   "source": [
    "installs['InstallDate'] = pd.to_datetime(installs['InstallDate'], errors='coerce')\n",
    "brochure_views['dateCreated'] = pd.to_datetime(brochure_views['dateCreated'], errors='coerce')\n",
    "brochure_views_july['dateCreated'] = pd.to_datetime(brochure_views_july['dateCreated'], errors='coerce')\n",
    "app_starts['dateCreated'] = pd.to_datetime(app_starts['dateCreated'], errors='coerce')\n",
    "app_starts_july['dateCreated'] = pd.to_datetime(app_starts_july['dateCreated'], errors='coerce')"
   ],
   "id": "aa5eeeb3d45587cb",
   "outputs": [],
   "execution_count": 3
  },
  {
   "metadata": {},
   "cell_type": "markdown",
   "source": "# replacing missing and negative values with min nun negative value and normalization",
   "id": "b7a5ad4f6c4a8d2b"
  },
  {
   "metadata": {
    "ExecuteTime": {
     "end_time": "2024-12-17T23:15:16.503393Z",
     "start_time": "2024-12-17T23:15:16.483459Z"
    }
   },
   "cell_type": "code",
   "source": [
    "\n",
    "min_value = brochure_views['view_duration'][brochure_views['view_duration']>0].min()\n",
    "brochure_views[\"view_duration\"] = np.where(\n",
    "    (brochure_views[\"view_duration\"] < 0) | (brochure_views[\"view_duration\"].isnull()),\n",
    "    1000,\n",
    "    brochure_views[\"view_duration\"]\n",
    ")\n",
    "brochure_views_july[\"view_duration\"] = np.where(\n",
    "    (brochure_views_july[\"view_duration\"] < 0) | (brochure_views_july[\"view_duration\"].isnull()),\n",
    "    1000,\n",
    "    brochure_views_july[\"view_duration\"]\n",
    ")\n",
    "normalize_col = ['view_duration', 'page_turn_count']\n",
    "for col in normalize_col:\n",
    "    brochure_views[f'{col}_log'] = np.log1p(brochure_views[col])\n",
    "    brochure_views_july[f'{col}_log'] = np.log1p(brochure_views_july[col])"
   ],
   "id": "1b4289e346dd39d1",
   "outputs": [],
   "execution_count": 4
  },
  {
   "metadata": {},
   "cell_type": "markdown",
   "source": "# remove duplications and inconsistent data",
   "id": "8725854b4654500f"
  },
  {
   "metadata": {
    "ExecuteTime": {
     "end_time": "2024-12-17T23:15:16.658342Z",
     "start_time": "2024-12-17T23:15:16.524874Z"
    }
   },
   "cell_type": "code",
   "source": [
    "app_starts.drop_duplicates(inplace=True)\n",
    "app_starts = app_starts.merge(installs[['userId', 'InstallDate']], on='userId', how='left')\n",
    "app_starts['dateCreated'] = app_starts[['dateCreated', 'InstallDate']].max(axis=1)\n",
    "app_starts.drop(columns=['InstallDate'], inplace=True)\n",
    "app_starts.head()"
   ],
   "id": "c7daadb10573abd0",
   "outputs": [
    {
     "data": {
      "text/plain": [
       "              dateCreated                                userId\n",
       "0 2017-06-30 14:14:54.793  50e72534-a4f4-40d7-96d5-ecbe4eb314e9\n",
       "1 2017-06-30 14:03:13.010  b3712849-595e-403f-84d2-4698439056b0\n",
       "2 2017-06-28 16:26:48.383  99cea50b-3ecf-4102-8290-997eaf32a6b6\n",
       "3 2017-06-27 10:23:29.943  78c06433-9ea8-4835-aff5-f64b262d0fb4\n",
       "4 2017-06-27 10:11:27.634  510c5f9e-de54-45ee-909c-c14103130e5e"
      ],
      "text/html": [
       "<div>\n",
       "<style scoped>\n",
       "    .dataframe tbody tr th:only-of-type {\n",
       "        vertical-align: middle;\n",
       "    }\n",
       "\n",
       "    .dataframe tbody tr th {\n",
       "        vertical-align: top;\n",
       "    }\n",
       "\n",
       "    .dataframe thead th {\n",
       "        text-align: right;\n",
       "    }\n",
       "</style>\n",
       "<table border=\"1\" class=\"dataframe\">\n",
       "  <thead>\n",
       "    <tr style=\"text-align: right;\">\n",
       "      <th></th>\n",
       "      <th>dateCreated</th>\n",
       "      <th>userId</th>\n",
       "    </tr>\n",
       "  </thead>\n",
       "  <tbody>\n",
       "    <tr>\n",
       "      <th>0</th>\n",
       "      <td>2017-06-30 14:14:54.793</td>\n",
       "      <td>50e72534-a4f4-40d7-96d5-ecbe4eb314e9</td>\n",
       "    </tr>\n",
       "    <tr>\n",
       "      <th>1</th>\n",
       "      <td>2017-06-30 14:03:13.010</td>\n",
       "      <td>b3712849-595e-403f-84d2-4698439056b0</td>\n",
       "    </tr>\n",
       "    <tr>\n",
       "      <th>2</th>\n",
       "      <td>2017-06-28 16:26:48.383</td>\n",
       "      <td>99cea50b-3ecf-4102-8290-997eaf32a6b6</td>\n",
       "    </tr>\n",
       "    <tr>\n",
       "      <th>3</th>\n",
       "      <td>2017-06-27 10:23:29.943</td>\n",
       "      <td>78c06433-9ea8-4835-aff5-f64b262d0fb4</td>\n",
       "    </tr>\n",
       "    <tr>\n",
       "      <th>4</th>\n",
       "      <td>2017-06-27 10:11:27.634</td>\n",
       "      <td>510c5f9e-de54-45ee-909c-c14103130e5e</td>\n",
       "    </tr>\n",
       "  </tbody>\n",
       "</table>\n",
       "</div>"
      ]
     },
     "execution_count": 5,
     "metadata": {},
     "output_type": "execute_result"
    }
   ],
   "execution_count": 5
  },
  {
   "metadata": {
    "ExecuteTime": {
     "end_time": "2024-12-17T23:18:59.098087Z",
     "start_time": "2024-12-17T23:18:59.092354Z"
    }
   },
   "cell_type": "code",
   "source": [
    "installs.head()\n",
    "app_starts_july.head()\n",
    "app_starts_july.drop(columns=['InstallDate_x'], inplace=True)\n",
    "app_starts_july.drop(columns=['InstallDate_y'], inplace=True)"
   ],
   "id": "76fbc628563e4cd7",
   "outputs": [],
   "execution_count": 11
  },
  {
   "metadata": {
    "ExecuteTime": {
     "end_time": "2024-12-17T23:19:01.653226Z",
     "start_time": "2024-12-17T23:19:01.624850Z"
    }
   },
   "cell_type": "code",
   "source": [
    "app_starts_july.drop_duplicates(inplace=True)\n",
    "app_starts_july = app_starts_july.merge(installs[['userId', 'InstallDate']], on='userId', how='left')\n",
    "app_starts_july['dateCreated'] = app_starts_july[['dateCreated', 'InstallDate']].max(axis=1)\n",
    "app_starts_july.drop(columns=['InstallDate'], inplace=True)"
   ],
   "id": "661b90fc643bb622",
   "outputs": [],
   "execution_count": 12
  },
  {
   "metadata": {},
   "cell_type": "markdown",
   "source": "# visualization after cleaning",
   "id": "8d4edc80648cd429"
  },
  {
   "metadata": {
    "ExecuteTime": {
     "end_time": "2024-12-17T23:19:51.760865Z",
     "start_time": "2024-12-17T23:19:51.515476Z"
    }
   },
   "cell_type": "code",
   "source": [
    "# impact of log transfer\n",
    "brochure_views[['view_duration_log', 'page_turn_count_log']].hist(figsize=(10, 5))"
   ],
   "id": "3293a1ce013a2c98",
   "outputs": [
    {
     "data": {
      "text/plain": [
       "array([[<Axes: title={'center': 'view_duration_log'}>,\n",
       "        <Axes: title={'center': 'page_turn_count_log'}>]], dtype=object)"
      ]
     },
     "execution_count": 14,
     "metadata": {},
     "output_type": "execute_result"
    },
    {
     "data": {
      "text/plain": [
       "<Figure size 1000x500 with 2 Axes>"
      ],
      "image/png": "[encoded data removed]"
     },
     "metadata": {},
     "output_type": "display_data"
    }
   ],
   "execution_count": 14
  },
  {
   "metadata": {
    "ExecuteTime": {
     "end_time": "2024-12-17T23:20:17.723304Z",
     "start_time": "2024-12-17T23:20:17.718361Z"
    }
   },
   "cell_type": "code",
   "source": [
    "print(app_starts[app_starts['dateCreated'].isnull()].shape)\n",
    "print(app_starts_july[app_starts_july['dateCreated'].isnull()].shape)"
   ],
   "id": "122f7d2d88dfa090",
   "outputs": [
    {
     "name": "stdout",
     "output_type": "stream",
     "text": [
      "(0, 2)\n",
      "(0, 2)\n"
     ]
    }
   ],
   "execution_count": 15
  },
  {
   "metadata": {
    "ExecuteTime": {
     "end_time": "2024-12-17T23:37:57.457257Z",
     "start_time": "2024-12-17T23:37:57.397874Z"
    }
   },
   "cell_type": "code",
   "source": [
    "print(\"\\nBrochure Views Describe:\\n\")\n",
    "display (brochure_views.describe())"
   ],
   "id": "aa2e53356260b499",
   "outputs": [
    {
     "name": "stdout",
     "output_type": "stream",
     "text": [
      "\n",
      "Brochure Views Describe:\n",
      "\n"
     ]
    },
    {
     "data": {
      "text/plain": [
       "                 id                    dateCreated  page_turn_count  \\\n",
       "count  2.792130e+05                         279213    279213.000000   \n",
       "mean   6.546832e+09  2017-05-20 18:19:11.878093312        15.830352   \n",
       "min    5.709034e+09     2017-04-01 00:29:01.711000         1.000000   \n",
       "25%    6.269143e+09  2017-05-02 17:02:28.992999936         1.000000   \n",
       "50%    6.570289e+09  2017-05-21 22:50:47.904999936         9.000000   \n",
       "75%    6.834928e+09  2017-06-08 02:00:10.892999936        23.000000   \n",
       "max    7.216487e+09     2017-06-30 23:59:53.699000       375.000000   \n",
       "std    3.642842e+08                            NaN        18.688516   \n",
       "\n",
       "       view_duration   brochure_id  view_duration_log  page_turn_count_log  \n",
       "count   2.792130e+05  2.792130e+05      279213.000000        279213.000000  \n",
       "mean    8.440337e+04  6.746679e+08          10.282973             2.187518  \n",
       "min     1.000000e+03  5.416142e+08           6.908755             0.693147  \n",
       "25%     9.000000e+03  6.678938e+08           9.105091             0.693147  \n",
       "50%     3.600000e+04  6.780668e+08          10.491302             2.302585  \n",
       "75%     9.800000e+04  6.851689e+08          11.492733             3.178054  \n",
       "max     4.009200e+06  6.995658e+08          15.204103             5.929589  \n",
       "std     1.494579e+05  1.616983e+07           1.612720             1.181055  "
      ],
      "text/html": [
       "<div>\n",
       "<style scoped>\n",
       "    .dataframe tbody tr th:only-of-type {\n",
       "        vertical-align: middle;\n",
       "    }\n",
       "\n",
       "    .dataframe tbody tr th {\n",
       "        vertical-align: top;\n",
       "    }\n",
       "\n",
       "    .dataframe thead th {\n",
       "        text-align: right;\n",
       "    }\n",
       "</style>\n",
       "<table border=\"1\" class=\"dataframe\">\n",
       "  <thead>\n",
       "    <tr style=\"text-align: right;\">\n",
       "      <th></th>\n",
       "      <th>id</th>\n",
       "      <th>dateCreated</th>\n",
       "      <th>page_turn_count</th>\n",
       "      <th>view_duration</th>\n",
       "      <th>brochure_id</th>\n",
       "      <th>view_duration_log</th>\n",
       "      <th>page_turn_count_log</th>\n",
       "    </tr>\n",
       "  </thead>\n",
       "  <tbody>\n",
       "    <tr>\n",
       "      <th>count</th>\n",
       "      <td>2.792130e+05</td>\n",
       "      <td>279213</td>\n",
       "      <td>279213.000000</td>\n",
       "      <td>2.792130e+05</td>\n",
       "      <td>2.792130e+05</td>\n",
       "      <td>279213.000000</td>\n",
       "      <td>279213.000000</td>\n",
       "    </tr>\n",
       "    <tr>\n",
       "      <th>mean</th>\n",
       "      <td>6.546832e+09</td>\n",
       "      <td>2017-05-20 18:19:11.878093312</td>\n",
       "      <td>15.830352</td>\n",
       "      <td>8.440337e+04</td>\n",
       "      <td>6.746679e+08</td>\n",
       "      <td>10.282973</td>\n",
       "      <td>2.187518</td>\n",
       "    </tr>\n",
       "    <tr>\n",
       "      <th>min</th>\n",
       "      <td>5.709034e+09</td>\n",
       "      <td>2017-04-01 00:29:01.711000</td>\n",
       "      <td>1.000000</td>\n",
       "      <td>1.000000e+03</td>\n",
       "      <td>5.416142e+08</td>\n",
       "      <td>6.908755</td>\n",
       "      <td>0.693147</td>\n",
       "    </tr>\n",
       "    <tr>\n",
       "      <th>25%</th>\n",
       "      <td>6.269143e+09</td>\n",
       "      <td>2017-05-02 17:02:28.992999936</td>\n",
       "      <td>1.000000</td>\n",
       "      <td>9.000000e+03</td>\n",
       "      <td>6.678938e+08</td>\n",
       "      <td>9.105091</td>\n",
       "      <td>0.693147</td>\n",
       "    </tr>\n",
       "    <tr>\n",
       "      <th>50%</th>\n",
       "      <td>6.570289e+09</td>\n",
       "      <td>2017-05-21 22:50:47.904999936</td>\n",
       "      <td>9.000000</td>\n",
       "      <td>3.600000e+04</td>\n",
       "      <td>6.780668e+08</td>\n",
       "      <td>10.491302</td>\n",
       "      <td>2.302585</td>\n",
       "    </tr>\n",
       "    <tr>\n",
       "      <th>75%</th>\n",
       "      <td>6.834928e+09</td>\n",
       "      <td>2017-06-08 02:00:10.892999936</td>\n",
       "      <td>23.000000</td>\n",
       "      <td>9.800000e+04</td>\n",
       "      <td>6.851689e+08</td>\n",
       "      <td>11.492733</td>\n",
       "      <td>3.178054</td>\n",
       "    </tr>\n",
       "    <tr>\n",
       "      <th>max</th>\n",
       "      <td>7.216487e+09</td>\n",
       "      <td>2017-06-30 23:59:53.699000</td>\n",
       "      <td>375.000000</td>\n",
       "      <td>4.009200e+06</td>\n",
       "      <td>6.995658e+08</td>\n",
       "      <td>15.204103</td>\n",
       "      <td>5.929589</td>\n",
       "    </tr>\n",
       "    <tr>\n",
       "      <th>std</th>\n",
       "      <td>3.642842e+08</td>\n",
       "      <td>NaN</td>\n",
       "      <td>18.688516</td>\n",
       "      <td>1.494579e+05</td>\n",
       "      <td>1.616983e+07</td>\n",
       "      <td>1.612720</td>\n",
       "      <td>1.181055</td>\n",
       "    </tr>\n",
       "  </tbody>\n",
       "</table>\n",
       "</div>"
      ]
     },
     "metadata": {},
     "output_type": "display_data"
    }
   ],
   "execution_count": 20
  },
  {
   "metadata": {
    "ExecuteTime": {
     "end_time": "2024-12-18T00:41:53.025356Z",
     "start_time": "2024-12-18T00:41:52.970694Z"
    }
   },
   "cell_type": "code",
   "source": [
    "from src.genral import save_dataframes_to_pickle\n",
    "dataframes = [installs, brochure_views, brochure_views_july, app_starts, app_starts_july]\n",
    "file_names = ['installs.pkl', 'brochure_views.pkl', 'brochure_views_july.pkl', 'app_starts.pkl', 'app_starts_july.pkl']\n",
    "SAVE_CLEAN_DATA_PATH = os.path.join(BASE_DIR, \"data\", \"clean_data\")\n",
    "\n",
    "save_dataframes_to_pickle(dataframes, file_names, SAVE_CLEAN_DATA_PATH)\n"
   ],
   "id": "c0c2b6b0d4f028dd",
   "outputs": [
    {
     "name": "stdout",
     "output_type": "stream",
     "text": [
      "File saved successfully: C:\\Users\\mona1\\PycharmProjects\\scientificProject\\data\\clean_data\\installs.pkl\n",
      "File saved successfully: C:\\Users\\mona1\\PycharmProjects\\scientificProject\\data\\clean_data\\brochure_views.pkl\n",
      "File saved successfully: C:\\Users\\mona1\\PycharmProjects\\scientificProject\\data\\clean_data\\brochure_views_july.pkl\n",
      "File saved successfully: C:\\Users\\mona1\\PycharmProjects\\scientificProject\\data\\clean_data\\app_starts.pkl\n",
      "File saved successfully: C:\\Users\\mona1\\PycharmProjects\\scientificProject\\data\\clean_data\\app_starts_july.pkl\n"
     ]
    }
   ],
   "execution_count": 48
  },
  {
   "metadata": {},
   "cell_type": "markdown",
   "source": "# Time-sires analysis",
   "id": "5b99aabc65b0075e"
  },
  {
   "metadata": {
    "ExecuteTime": {
     "end_time": "2024-12-17T23:43:40.324726Z",
     "start_time": "2024-12-17T23:43:40.318304Z"
    }
   },
   "cell_type": "code",
   "source": [
    "earliest_date = brochure_views['dateCreated'].min()\n",
    "latest_date = brochure_views['dateCreated'].max()\n",
    "\n",
    "print(\"Earliest brochure view date:\", earliest_date)\n",
    "print(\"Latest brochure view date:\", latest_date)"
   ],
   "id": "44040fe7ce597429",
   "outputs": [
    {
     "name": "stdout",
     "output_type": "stream",
     "text": [
      "Earliest brochure view date: 2017-04-01 00:29:01.711000\n",
      "Latest brochure view date: 2017-06-30 23:59:53.699000\n"
     ]
    }
   ],
   "execution_count": 22
  },
  {
   "metadata": {},
   "cell_type": "markdown",
   "source": "",
   "id": "f35c52eba19a97a"
  },
  {
   "metadata": {
    "ExecuteTime": {
     "end_time": "2024-12-18T00:21:53.754997Z",
     "start_time": "2024-12-18T00:21:53.615506Z"
    }
   },
   "cell_type": "code",
   "source": [
    "user_date_range = brochure_views.groupby(['userId','brochure_id']).agg(\n",
    "    earliest_view=('dateCreated', 'min'),\n",
    "   latest_view=('dateCreated', 'max'),\n",
    "    total_duration=('view_duration_log', 'sum'),\n",
    "    avg_duration=('view_duration_log', 'mean'),\n",
    "    total_pages=('page_turn_count_log', 'sum')\n",
    ").reset_index()\n",
    "user_date_range['view_duration_days'] =np.log1p((user_date_range['latest_view']-user_date_range['earliest_view']).dt.days)\n",
    "\n",
    "display(user_date_range.head())\n",
    "\n",
    "print(\"Number of users with view data:\", user_date_range.shape[0])"
   ],
   "id": "96af3ad40acedda5",
   "outputs": [
    {
     "data": {
      "text/plain": [
       "                                 userId  brochure_id           earliest_view  \\\n",
       "0  0002C218-D30F-402E-AE08-1280AD4FB669    541614364 2017-04-26 03:46:08.280   \n",
       "1  0002C218-D30F-402E-AE08-1280AD4FB669    631731945 2017-04-24 22:45:25.966   \n",
       "2  0002C218-D30F-402E-AE08-1280AD4FB669    657370331 2017-04-26 03:46:20.008   \n",
       "3  0002C218-D30F-402E-AE08-1280AD4FB669    665488997 2017-04-26 03:39:55.547   \n",
       "4  0002C218-D30F-402E-AE08-1280AD4FB669    665489007 2017-04-28 19:02:13.400   \n",
       "\n",
       "              latest_view  total_duration  avg_duration  total_pages  \\\n",
       "0 2017-04-26 03:46:08.280        7.601402      7.601402     0.693147   \n",
       "1 2017-04-24 22:45:25.966       11.835016     11.835016     3.713572   \n",
       "2 2017-04-26 03:46:20.008       10.239996     10.239996     3.218876   \n",
       "3 2017-04-26 03:39:55.547        8.853808      8.853808     1.098612   \n",
       "4 2017-04-28 19:02:13.400        8.853808      8.853808     1.098612   \n",
       "\n",
       "   view_duration_days  \n",
       "0                 0.0  \n",
       "1                 0.0  \n",
       "2                 0.0  \n",
       "3                 0.0  \n",
       "4                 0.0  "
      ],
      "text/html": [
       "<div>\n",
       "<style scoped>\n",
       "    .dataframe tbody tr th:only-of-type {\n",
       "        vertical-align: middle;\n",
       "    }\n",
       "\n",
       "    .dataframe tbody tr th {\n",
       "        vertical-align: top;\n",
       "    }\n",
       "\n",
       "    .dataframe thead th {\n",
       "        text-align: right;\n",
       "    }\n",
       "</style>\n",
       "<table border=\"1\" class=\"dataframe\">\n",
       "  <thead>\n",
       "    <tr style=\"text-align: right;\">\n",
       "      <th></th>\n",
       "      <th>userId</th>\n",
       "      <th>brochure_id</th>\n",
       "      <th>earliest_view</th>\n",
       "      <th>latest_view</th>\n",
       "      <th>total_duration</th>\n",
       "      <th>avg_duration</th>\n",
       "      <th>total_pages</th>\n",
       "      <th>view_duration_days</th>\n",
       "    </tr>\n",
       "  </thead>\n",
       "  <tbody>\n",
       "    <tr>\n",
       "      <th>0</th>\n",
       "      <td>0002C218-D30F-402E-AE08-1280AD4FB669</td>\n",
       "      <td>541614364</td>\n",
       "      <td>2017-04-26 03:46:08.280</td>\n",
       "      <td>2017-04-26 03:46:08.280</td>\n",
       "      <td>7.601402</td>\n",
       "      <td>7.601402</td>\n",
       "      <td>0.693147</td>\n",
       "      <td>0.0</td>\n",
       "    </tr>\n",
       "    <tr>\n",
       "      <th>1</th>\n",
       "      <td>0002C218-D30F-402E-AE08-1280AD4FB669</td>\n",
       "      <td>631731945</td>\n",
       "      <td>2017-04-24 22:45:25.966</td>\n",
       "      <td>2017-04-24 22:45:25.966</td>\n",
       "      <td>11.835016</td>\n",
       "      <td>11.835016</td>\n",
       "      <td>3.713572</td>\n",
       "      <td>0.0</td>\n",
       "    </tr>\n",
       "    <tr>\n",
       "      <th>2</th>\n",
       "      <td>0002C218-D30F-402E-AE08-1280AD4FB669</td>\n",
       "      <td>657370331</td>\n",
       "      <td>2017-04-26 03:46:20.008</td>\n",
       "      <td>2017-04-26 03:46:20.008</td>\n",
       "      <td>10.239996</td>\n",
       "      <td>10.239996</td>\n",
       "      <td>3.218876</td>\n",
       "      <td>0.0</td>\n",
       "    </tr>\n",
       "    <tr>\n",
       "      <th>3</th>\n",
       "      <td>0002C218-D30F-402E-AE08-1280AD4FB669</td>\n",
       "      <td>665488997</td>\n",
       "      <td>2017-04-26 03:39:55.547</td>\n",
       "      <td>2017-04-26 03:39:55.547</td>\n",
       "      <td>8.853808</td>\n",
       "      <td>8.853808</td>\n",
       "      <td>1.098612</td>\n",
       "      <td>0.0</td>\n",
       "    </tr>\n",
       "    <tr>\n",
       "      <th>4</th>\n",
       "      <td>0002C218-D30F-402E-AE08-1280AD4FB669</td>\n",
       "      <td>665489007</td>\n",
       "      <td>2017-04-28 19:02:13.400</td>\n",
       "      <td>2017-04-28 19:02:13.400</td>\n",
       "      <td>8.853808</td>\n",
       "      <td>8.853808</td>\n",
       "      <td>1.098612</td>\n",
       "      <td>0.0</td>\n",
       "    </tr>\n",
       "  </tbody>\n",
       "</table>\n",
       "</div>"
      ]
     },
     "metadata": {},
     "output_type": "display_data"
    },
    {
     "name": "stdout",
     "output_type": "stream",
     "text": [
      "Number of users with view data: 197839\n"
     ]
    }
   ],
   "execution_count": 42
  },
  {
   "metadata": {
    "ExecuteTime": {
     "end_time": "2024-12-18T00:25:46.220194Z",
     "start_time": "2024-12-18T00:25:46.049602Z"
    }
   },
   "cell_type": "code",
   "source": [
    "grouped_by_day = brochure_views.groupby(['userId', 'brochure_id', 'dateCreated']).agg(\n",
    "    total_views=('view_duration_log', 'count'),\n",
    "    total_duration=('view_duration_log', 'sum'),\n",
    "    average_duration=('view_duration_log', 'mean')\n",
    ").reset_index()\n",
    "display(grouped_by_day.head())\n",
    "\n",
    "print(\"Number of users with view data:\", grouped_by_day.shape[0])\n",
    "print(grouped_by_day['average_duration'].unique().shape[0])\n"
   ],
   "id": "2cacf1bd64cf732f",
   "outputs": [
    {
     "data": {
      "text/plain": [
       "                                 userId  brochure_id             dateCreated  \\\n",
       "0  0002C218-D30F-402E-AE08-1280AD4FB669    541614364 2017-04-26 03:46:08.280   \n",
       "1  0002C218-D30F-402E-AE08-1280AD4FB669    631731945 2017-04-24 22:45:25.966   \n",
       "2  0002C218-D30F-402E-AE08-1280AD4FB669    657370331 2017-04-26 03:46:20.008   \n",
       "3  0002C218-D30F-402E-AE08-1280AD4FB669    665488997 2017-04-26 03:39:55.547   \n",
       "4  0002C218-D30F-402E-AE08-1280AD4FB669    665489007 2017-04-28 19:02:13.400   \n",
       "\n",
       "   total_views  total_duration  average_duration  \n",
       "0            1        7.601402          7.601402  \n",
       "1            1       11.835016         11.835016  \n",
       "2            1       10.239996         10.239996  \n",
       "3            1        8.853808          8.853808  \n",
       "4            1        8.853808          8.853808  "
      ],
      "text/html": [
       "<div>\n",
       "<style scoped>\n",
       "    .dataframe tbody tr th:only-of-type {\n",
       "        vertical-align: middle;\n",
       "    }\n",
       "\n",
       "    .dataframe tbody tr th {\n",
       "        vertical-align: top;\n",
       "    }\n",
       "\n",
       "    .dataframe thead th {\n",
       "        text-align: right;\n",
       "    }\n",
       "</style>\n",
       "<table border=\"1\" class=\"dataframe\">\n",
       "  <thead>\n",
       "    <tr style=\"text-align: right;\">\n",
       "      <th></th>\n",
       "      <th>userId</th>\n",
       "      <th>brochure_id</th>\n",
       "      <th>dateCreated</th>\n",
       "      <th>total_views</th>\n",
       "      <th>total_duration</th>\n",
       "      <th>average_duration</th>\n",
       "    </tr>\n",
       "  </thead>\n",
       "  <tbody>\n",
       "    <tr>\n",
       "      <th>0</th>\n",
       "      <td>0002C218-D30F-402E-AE08-1280AD4FB669</td>\n",
       "      <td>541614364</td>\n",
       "      <td>2017-04-26 03:46:08.280</td>\n",
       "      <td>1</td>\n",
       "      <td>7.601402</td>\n",
       "      <td>7.601402</td>\n",
       "    </tr>\n",
       "    <tr>\n",
       "      <th>1</th>\n",
       "      <td>0002C218-D30F-402E-AE08-1280AD4FB669</td>\n",
       "      <td>631731945</td>\n",
       "      <td>2017-04-24 22:45:25.966</td>\n",
       "      <td>1</td>\n",
       "      <td>11.835016</td>\n",
       "      <td>11.835016</td>\n",
       "    </tr>\n",
       "    <tr>\n",
       "      <th>2</th>\n",
       "      <td>0002C218-D30F-402E-AE08-1280AD4FB669</td>\n",
       "      <td>657370331</td>\n",
       "      <td>2017-04-26 03:46:20.008</td>\n",
       "      <td>1</td>\n",
       "      <td>10.239996</td>\n",
       "      <td>10.239996</td>\n",
       "    </tr>\n",
       "    <tr>\n",
       "      <th>3</th>\n",
       "      <td>0002C218-D30F-402E-AE08-1280AD4FB669</td>\n",
       "      <td>665488997</td>\n",
       "      <td>2017-04-26 03:39:55.547</td>\n",
       "      <td>1</td>\n",
       "      <td>8.853808</td>\n",
       "      <td>8.853808</td>\n",
       "    </tr>\n",
       "    <tr>\n",
       "      <th>4</th>\n",
       "      <td>0002C218-D30F-402E-AE08-1280AD4FB669</td>\n",
       "      <td>665489007</td>\n",
       "      <td>2017-04-28 19:02:13.400</td>\n",
       "      <td>1</td>\n",
       "      <td>8.853808</td>\n",
       "      <td>8.853808</td>\n",
       "    </tr>\n",
       "  </tbody>\n",
       "</table>\n",
       "</div>"
      ]
     },
     "metadata": {},
     "output_type": "display_data"
    },
    {
     "name": "stdout",
     "output_type": "stream",
     "text": [
      "Number of users with view data: 279197\n",
      "9714\n"
     ]
    }
   ],
   "execution_count": 47
  },
  {
   "metadata": {
    "ExecuteTime": {
     "end_time": "2024-12-18T00:11:09.190261Z",
     "start_time": "2024-12-18T00:11:07.851987Z"
    }
   },
   "cell_type": "code",
   "source": [
    "plt.figure(figsize=(10,4))\n",
    "sns.histplot(user_date_range['view_duration_days'], kde=True, bins=30)\n",
    "plt.title(\"Distribution of Users view_duration_day \")\n",
    "plt.xlabel(\"Date\")\n",
    "plt.ylabel(\"Number of Users\")\n",
    "plt.xticks(rotation=45)\n",
    "plt.tight_layout()\n",
    "plt.show()"
   ],
   "id": "97b996fdfba16579",
   "outputs": [
    {
     "data": {
      "text/plain": [
       "<Figure size 1000x400 with 1 Axes>"
      ],
      "image/png": "[encoded data removed]"
     },
     "metadata": {},
     "output_type": "display_data"
    }
   ],
   "execution_count": 37
  },
  {
   "metadata": {
    "ExecuteTime": {
     "end_time": "2024-12-17T23:49:16.273090Z",
     "start_time": "2024-12-17T23:49:15.857269Z"
    }
   },
   "cell_type": "code",
   "source": [
    "plt.figure(figsize=(10,4))\n",
    "sns.histplot(user_date_range['earliest_view'], kde=True, bins=30)\n",
    "plt.title(\"Distribution of Users' Earliest Brochure View Dates\")\n",
    "plt.xlabel(\"Date\")\n",
    "plt.ylabel(\"Number of Users\")\n",
    "plt.xticks(rotation=45)\n",
    "plt.tight_layout()\n",
    "plt.show()"
   ],
   "id": "2c5b65d39f10289a",
   "outputs": [
    {
     "data": {
      "text/plain": [
       "<Figure size 1000x400 with 1 Axes>"
      ],
      "image/png": "[encoded data removed]"
     },
     "metadata": {},
     "output_type": "display_data"
    }
   ],
   "execution_count": 29
  },
  {
   "metadata": {
    "ExecuteTime": {
     "end_time": "2024-12-17T23:50:38.313216Z",
     "start_time": "2024-12-17T23:50:38.043235Z"
    }
   },
   "cell_type": "code",
   "source": [
    "user_date_range['latest_view'] = user_date_range['latest_view'].dt.date\n",
    "\n",
    "plt.figure(figsize=(10,4))\n",
    "sns.histplot(user_date_range['latest_view'], kde=True, bins=30, color='orange')\n",
    "plt.title(\"Distribution of Users' Latest Brochure View Dates\")\n",
    "plt.xlabel(\"Date\")\n",
    "plt.ylabel(\"Number of Users\")\n",
    "plt.xticks(rotation=45)\n",
    "plt.tight_layout()\n",
    "plt.show()"
   ],
   "id": "5b503f61240a2475",
   "outputs": [
    {
     "data": {
      "text/plain": [
       "<Figure size 1000x400 with 1 Axes>"
      ],
      "image/png": "[encoded data removed]"
     },
     "metadata": {},
     "output_type": "display_data"
    }
   ],
   "execution_count": 30
  }
 ],
 "metadata": {
  "kernelspec": {
   "display_name": "Python 3",
   "language": "python",
   "name": "python3"
  },
  "language_info": {
   "codemirror_mode": {
    "name": "ipython",
    "version": 2
   },
   "file_extension": ".py",
   "mimetype": "text/x-python",
   "name": "python",
   "nbconvert_exporter": "python",
   "pygments_lexer": "ipython2",
   "version": "2.7.6"
  }
 },
 "nbformat": 4,
 "nbformat_minor": 5
}
